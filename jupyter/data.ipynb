{
 "cells": [
  {
   "cell_type": "code",
   "execution_count": 182,
   "metadata": {},
   "outputs": [],
   "source": [
    "import os\n",
    "import numpy as np\n",
    "import time\n",
    "\n",
    "import pickle\n",
    "\n",
    "import matplotlib.pyplot as plt\n",
    "\n",
    "import warnings\n",
    "# warnings.filterwarnings('ignore')\n",
    "\n",
    "from scipy.io import wavfile\n",
    "import scipy.fftpack as fftpack\n",
    "\n",
    "import IPython.display as ipd"
   ]
  },
  {
   "cell_type": "code",
   "execution_count": 183,
   "metadata": {},
   "outputs": [],
   "source": [
    "class DataPoint():\n",
    "    def __init__(self, file, dataset):\n",
    "        self.file = file\n",
    "        self.dataset = dataset\n",
    "        self.metrics = {'p-score': None,\n",
    "                        'f-measure': None}\n",
    "        self.features = {'beat_strength': None,\n",
    "                         'pulse_clarity': None}\n",
    "        self.model_class = None\n",
    "    \n",
    "    @property\n",
    "    def audio(self):\n",
    "        _, signal = wavfile.read('../data/audio/' + self.dataset+ '/' + self.file + '.wav', mmap=False)\n",
    "        signal = signal / np.max(np.abs(signal))\n",
    "        return signal\n",
    "    \n",
    "    @property\n",
    "    def sample_rate(self):\n",
    "        sr, _ = wavfile.read('../data/audio/' + self.dataset+ '/' + self.file + '.wav', mmap=False)\n",
    "        return sr\n",
    "    \n",
    "    @property\n",
    "    def annotations(self):\n",
    "        try:\n",
    "            return np.loadtxt('../data/annotations/' + self.dataset + '/' + self.file + '.beats', ndmin=2)[:, 0]\n",
    "        except OSError:\n",
    "            print('OSError: No matching annotation file: {}'.format(self.file))\n",
    "            return None\n",
    "    \n",
    "    @property\n",
    "    def predictions(self):\n",
    "        try:\n",
    "            return np.loadtxt('../data/predictions/' + self.dataset + '/' + self.file + '.beats') \n",
    "        except OSError:\n",
    "            print('OSError: No matching prediction file: {}'.format(self.file))\n",
    "            return None\n",
    "        \n",
    "    @property\n",
    "    def feature_vector(self):\n",
    "        try:\n",
    "            return pickle.load(open('../data/features/' + self.dataset + '/' + self.file + '.npy', 'rb'))\n",
    "        except OSError:\n",
    "            print('OSError: No matching feature vector file: {}'.format(self.file))\n",
    "            return None\n",
    "    \n",
    "    @property\n",
    "    def labels(self):\n",
    "        return pickle.load(open('../data/labels/' + self.dataset + '/' + self.file + '.npy', 'rb'))"
   ]
  },
  {
   "cell_type": "code",
   "execution_count": 178,
   "metadata": {},
   "outputs": [
    {
     "data": {
      "text/plain": [
       "5"
      ]
     },
     "execution_count": 178,
     "metadata": {},
     "output_type": "execute_result"
    }
   ],
   "source": [
    "dataset = 'Ballroom'\n",
    "files_ballroom = sorted(os.listdir('../data/audio/Ballroom/'))\n",
    "files_ballroom = [file[:-4] for file in files_ballroom] # delete file ending\n",
    "\n",
    "data = [DataPoint(file, dataset) for file in files_ballroom]\n",
    "\n",
    "example = 5\n",
    "point = data[example]\n",
    "\n",
    "data.index(point)"
   ]
  },
  {
   "cell_type": "markdown",
   "metadata": {},
   "source": [
    "## Save data "
   ]
  },
  {
   "cell_type": "code",
   "execution_count": 181,
   "metadata": {},
   "outputs": [],
   "source": [
    "# pickle.dump(data, open('../data/data.npy', 'wb'), protocol=2)"
   ]
  },
  {
   "cell_type": "code",
   "execution_count": null,
   "metadata": {},
   "outputs": [],
   "source": []
  }
 ],
 "metadata": {
  "kernelspec": {
   "display_name": "Python 3",
   "language": "python",
   "name": "python3"
  },
  "language_info": {
   "codemirror_mode": {
    "name": "ipython",
    "version": 3
   },
   "file_extension": ".py",
   "mimetype": "text/x-python",
   "name": "python",
   "nbconvert_exporter": "python",
   "pygments_lexer": "ipython3",
   "version": "3.6.5"
  },
  "varInspector": {
   "cols": {
    "lenName": 16,
    "lenType": 16,
    "lenVar": 40
   },
   "kernels_config": {
    "python": {
     "delete_cmd_postfix": "",
     "delete_cmd_prefix": "del ",
     "library": "var_list.py",
     "varRefreshCmd": "print(var_dic_list())"
    },
    "r": {
     "delete_cmd_postfix": ") ",
     "delete_cmd_prefix": "rm(",
     "library": "var_list.r",
     "varRefreshCmd": "cat(var_dic_list()) "
    }
   },
   "types_to_exclude": [
    "module",
    "function",
    "builtin_function_or_method",
    "instance",
    "_Feature"
   ],
   "window_display": false
  }
 },
 "nbformat": 4,
 "nbformat_minor": 2
}
