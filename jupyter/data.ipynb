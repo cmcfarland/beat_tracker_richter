{
 "cells": [
  {
   "cell_type": "code",
   "execution_count": 1,
   "metadata": {},
   "outputs": [],
   "source": [
    "%matplotlib inline\n",
    "\n",
    "import sys\n",
    "import os\n",
    "import time\n",
    "\n",
    "import numpy as np\n",
    "import pandas as pd\n",
    "import matplotlib.pyplot as plt\n",
    "import qgrid\n",
    "import xml.etree.ElementTree as ET\n",
    "\n",
    "module_path = os.path.abspath(os.path.join('..'))\n",
    "if module_path not in sys.path:\n",
    "    sys.path.append(module_path)\n",
    "\n",
    "from python.utils import *"
   ]
  },
  {
   "cell_type": "markdown",
   "metadata": {},
   "source": [
    "## Load data"
   ]
  },
  {
   "cell_type": "code",
   "execution_count": 8,
   "metadata": {},
   "outputs": [],
   "source": [
    "data = pd.read_csv('../data/data.csv', index_col=0)\n",
    "\n",
    "performance = pd.read_csv('../data/performance.csv', index_col=0)"
   ]
  },
  {
   "cell_type": "code",
   "execution_count": 12,
   "metadata": {
    "scrolled": false
   },
   "outputs": [
    {
     "data": {
      "application/vnd.jupyter.widget-view+json": {
       "model_id": "419a08d395b34b7a94857cefe10832c1",
       "version_major": 2,
       "version_minor": 0
      },
      "text/plain": [
       "QgridWidget(grid_options={'fullWidthRows': True, 'syncColumnCellResize': True, 'forceFitColumns': True, 'defau…"
      ]
     },
     "metadata": {},
     "output_type": "display_data"
    }
   ],
   "source": [
    "qgrid.show_grid(data)"
   ]
  },
  {
   "cell_type": "markdown",
   "metadata": {},
   "source": [
    "## GTZAN"
   ]
  },
  {
   "cell_type": "code",
   "execution_count": 141,
   "metadata": {},
   "outputs": [],
   "source": [
    "files_GTZAN = sorted(os.listdir('../data/annotations/GTZAN/xml/'))"
   ]
  },
  {
   "cell_type": "code",
   "execution_count": 152,
   "metadata": {},
   "outputs": [
    {
     "name": "stdout",
     "output_type": "stream",
     "text": [
      "Progress file 1000 of 1000\r"
     ]
    }
   ],
   "source": [
    "for i, file in enumerate(files_GTZAN):\n",
    "    print(\"Progress file {:d} of {:d}\".format(i+1, len(files_GTZAN)), end=\"\\r\")\n",
    "    \n",
    "    tree = ET.parse('../data/annotations/GTZAN/xml/{}'.format(file))\n",
    "    root = tree.getroot()\n",
    "\n",
    "    beats = []\n",
    "    measure = []\n",
    "    counter = 1\n",
    "\n",
    "    for child in root:\n",
    "        if child.get('time') != None:\n",
    "            if child.getchildren()[0].get('beat') == '1':        \n",
    "                beats.append(float(child.get('time')))\n",
    "                if child.getchildren()[0].get('measure') == '1':\n",
    "                    counter = 1\n",
    "                    measure.append(counter)\n",
    "                else:\n",
    "                    counter = counter + 1\n",
    "                    measure.append(counter)\n",
    "\n",
    "    # Correct measure\n",
    "    signature = max(measure[:10])\n",
    "    try:\n",
    "        first_occurance = measure.index(1)\n",
    "        for i, j in enumerate(reversed(range(first_occurance))):\n",
    "            measure[j] = signature-i\n",
    "    except ValueError:\n",
    "        measure = np.zeros(len(beats))\n",
    "#         print(file)\n",
    "        \n",
    "    name = file[:-8]\n",
    "    \n",
    "    data = np.array([beats, measure])\n",
    "    \n",
    "    np.savetxt('../data/annotations/GTZAN/{}.beats'.format(name), data.T, \n",
    "               delimiter='', fmt=['%.10f ', '%d'])"
   ]
  },
  {
   "cell_type": "markdown",
   "metadata": {},
   "source": [
    "## Hainsworth"
   ]
  },
  {
   "cell_type": "code",
   "execution_count": 5,
   "metadata": {},
   "outputs": [],
   "source": [
    "hw = pd.read_csv('../../data/hainsworth/data.txt', sep=\"<sep>\", header=None, engine='python')"
   ]
  },
  {
   "cell_type": "code",
   "execution_count": 58,
   "metadata": {},
   "outputs": [],
   "source": [
    "for i, beats in enumerate(hw[10]):\n",
    "    beats = beats[2:-2]\n",
    "    beats = beats.split(',')\n",
    "    beats = [int(float(beat)) for beat in beats]\n",
    "    beats = np.array(beats)/44100\n",
    "    \n",
    "    name = hw.at[i, 0]\n",
    "    name = name[:-6]\n",
    "\n",
    "    np.savetxt('../data/annotations/HW{}.beats'.format(name), beats, fmt='%.10f ')"
   ]
  },
  {
   "cell_type": "markdown",
   "metadata": {},
   "source": [
    "## Add new data"
   ]
  },
  {
   "cell_type": "code",
   "execution_count": null,
   "metadata": {},
   "outputs": [],
   "source": [
    "files_ballroom = sorted(os.listdir('../data/audio/'))\n",
    "files_ballroom = [file[:-4] for file in files_ballroom] # delete file ending"
   ]
  },
  {
   "cell_type": "code",
   "execution_count": null,
   "metadata": {},
   "outputs": [],
   "source": [
    "files_smc = [file for file in sorted(os.listdir('../data/audio/')) if file.startswith(\"SMC\")]\n",
    "files_smc = [file[:-4] for file in files_smc] # delete file ending"
   ]
  },
  {
   "cell_type": "code",
   "execution_count": 65,
   "metadata": {},
   "outputs": [],
   "source": [
    "files_hw = [file for file in sorted(os.listdir('../data/audio/')) if file.startswith(\"HW\")]\n",
    "files_hw = [file[:-4] for file in files_hw] # delete file ending"
   ]
  },
  {
   "cell_type": "code",
   "execution_count": 158,
   "metadata": {},
   "outputs": [],
   "source": [
    "files_gtzan = [file for file in sorted(os.listdir('../data/audio/GTZAN/')) if not file.startswith('.')]\n",
    "files_gtzan = [file[:-4] for file in files_gtzan] # delete file ending"
   ]
  },
  {
   "cell_type": "code",
   "execution_count": 15,
   "metadata": {},
   "outputs": [],
   "source": [
    "beatles_albums = [file for file in sorted(os.listdir('../data/audio/Beatles/')) if not file.startswith('.')]\n",
    "beatles = []\n",
    "for album in beatles_albums:\n",
    "    tracks = ['{}/{}'.format(album, file) for file in sorted(\n",
    "        os.listdir('../data/audio/Beatles/{}/'.format(album))) if not file.startswith('.')]\n",
    "    beatles = beatles + tracks\n",
    "    beatles = [file[:-4] for file in beatles] # delete file ending"
   ]
  },
  {
   "cell_type": "code",
   "execution_count": 11,
   "metadata": {},
   "outputs": [],
   "source": [
    "beatles_albums = [file for file in sorted(os.listdir('../data/audio/Beatles/')) if not file.startswith('.')]\n",
    "for album in beatles_albums:\n",
    "    tracks = ['{}'.format(file) for file in sorted(\n",
    "        os.listdir('../data/audio/Beatles/{}/'.format(album))) if not file.startswith('.')]\n",
    "    old_tracknames = ['{}'.format(file) for file in sorted(\n",
    "        os.listdir('../data/audio/The-Beatles-Original-Studio-Albums/{}/'.format(album))) if not file.startswith('.')]\n",
    "    for i in range(len(tracks)):\n",
    "        os.rename('../data/audio/The-Beatles-Original-Studio-Albums/{}/{}'.format(album, old_tracknames[i]),\n",
    "                  '../data/audio/The-Beatles-Original-Studio-Albums/{}/{}'.format(album, tracks[i])) "
   ]
  },
  {
   "cell_type": "code",
   "execution_count": 10,
   "metadata": {},
   "outputs": [],
   "source": [
    "MIREX = [file for file in sorted(os.listdir('../data/audio/MIREX/'))if not file.startswith('.')]\n",
    "MIREX = [file[:-4] for file in MIREX]"
   ]
  },
  {
   "cell_type": "code",
   "execution_count": 11,
   "metadata": {},
   "outputs": [],
   "source": [
    "new_data = pd.DataFrame(columns=data.columns)\n",
    "new_data['file'] = MIREX\n",
    "new_data['data_set'] = 6\n",
    "new_data['idx'] = np.arange(len(data),len(data)+len(MIREX))\n",
    "\n",
    "data = data.append(new_data, ignore_index=True)"
   ]
  },
  {
   "cell_type": "markdown",
   "metadata": {},
   "source": [
    "## Delete rows"
   ]
  },
  {
   "cell_type": "code",
   "execution_count": 5,
   "metadata": {},
   "outputs": [],
   "source": [
    "data = data.drop([2023], axis=0)"
   ]
  },
  {
   "cell_type": "code",
   "execution_count": 20,
   "metadata": {},
   "outputs": [],
   "source": [
    "data.index = range(len(data))\n",
    "data.idx = range(len(data))"
   ]
  },
  {
   "cell_type": "markdown",
   "metadata": {},
   "source": [
    "## Rename columns"
   ]
  },
  {
   "cell_type": "code",
   "execution_count": 29,
   "metadata": {},
   "outputs": [],
   "source": [
    "data = data.rename(index=str, columns={'AMLt_mad': 'At_mad'})"
   ]
  },
  {
   "cell_type": "markdown",
   "metadata": {},
   "source": [
    "## Delete columns"
   ]
  },
  {
   "cell_type": "code",
   "execution_count": 18,
   "metadata": {},
   "outputs": [],
   "source": [
    "data = data.drop(columns=['loss_tcn'])"
   ]
  },
  {
   "cell_type": "markdown",
   "metadata": {},
   "source": [
    "## Chance columns"
   ]
  },
  {
   "cell_type": "code",
   "execution_count": 4,
   "metadata": {},
   "outputs": [
    {
     "data": {
      "text/plain": [
       "Index(['idx', 'file', 'data_set', 'f_mad', 'f_TCN', 'Cc_TCN', 'Ct_TCN',\n",
       "       'Ac_TCN', 'At_TCN', 'Cc_mad', 'Ct_mad', 'Ac_mad', 'At_mad', 'D_TCN',\n",
       "       'D_mad', 'loss'],\n",
       "      dtype='object')"
      ]
     },
     "execution_count": 4,
     "metadata": {},
     "output_type": "execute_result"
    }
   ],
   "source": [
    "data.columns"
   ]
  },
  {
   "cell_type": "code",
   "execution_count": 5,
   "metadata": {},
   "outputs": [],
   "source": [
    "data = data[['idx', 'file', 'data_set', 'f_TCN', 'f_mad', 'Cc_TCN', 'Ct_TCN',\n",
    "       'Ac_TCN', 'At_TCN', 'Cc_mad', 'Ct_mad', 'Ac_mad', 'At_mad', 'D_TCN',\n",
    "       'D_mad', 'loss']]"
   ]
  },
  {
   "cell_type": "markdown",
   "metadata": {},
   "source": [
    "## Save data"
   ]
  },
  {
   "cell_type": "code",
   "execution_count": 13,
   "metadata": {},
   "outputs": [],
   "source": [
    "data.to_csv('../data/data.csv')"
   ]
  },
  {
   "cell_type": "code",
   "execution_count": 77,
   "metadata": {},
   "outputs": [],
   "source": [
    "performance.to_csv('../data/performance.csv')"
   ]
  },
  {
   "cell_type": "code",
   "execution_count": null,
   "metadata": {},
   "outputs": [],
   "source": []
  }
 ],
 "metadata": {
  "kernelspec": {
   "display_name": "Python 3",
   "language": "python",
   "name": "python3"
  },
  "language_info": {
   "codemirror_mode": {
    "name": "ipython",
    "version": 3
   },
   "file_extension": ".py",
   "mimetype": "text/x-python",
   "name": "python",
   "nbconvert_exporter": "python",
   "pygments_lexer": "ipython3",
   "version": "3.6.5"
  },
  "varInspector": {
   "cols": {
    "lenName": 16,
    "lenType": 16,
    "lenVar": 40
   },
   "kernels_config": {
    "python": {
     "delete_cmd_postfix": "",
     "delete_cmd_prefix": "del ",
     "library": "var_list.py",
     "varRefreshCmd": "print(var_dic_list())"
    },
    "r": {
     "delete_cmd_postfix": ") ",
     "delete_cmd_prefix": "rm(",
     "library": "var_list.r",
     "varRefreshCmd": "cat(var_dic_list()) "
    }
   },
   "types_to_exclude": [
    "module",
    "function",
    "builtin_function_or_method",
    "instance",
    "_Feature"
   ],
   "window_display": false
  }
 },
 "nbformat": 4,
 "nbformat_minor": 2
}
