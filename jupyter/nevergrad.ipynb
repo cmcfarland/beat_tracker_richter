{
 "cells": [
  {
   "cell_type": "code",
   "execution_count": 75,
   "metadata": {},
   "outputs": [],
   "source": [
    "import nevergrad as ng\n",
    "import numpy as np"
   ]
  },
  {
   "cell_type": "code",
   "execution_count": 12,
   "metadata": {},
   "outputs": [],
   "source": [
    "def square(x, y=12):\n",
    "    return sum((x - .5)**2) + abs(y)"
   ]
  },
  {
   "cell_type": "code",
   "execution_count": 14,
   "metadata": {},
   "outputs": [
    {
     "name": "stdout",
     "output_type": "stream",
     "text": [
      "Candidate(args=(array([0.49436086, 0.49365343, 0.50145127, 0.46881927]),), kwargs={})\n"
     ]
    }
   ],
   "source": [
    "optimizer = ng.optimizers.OnePlusOne(instrumentation=4, budget=100)\n",
    "\n",
    "recommendation = optimizer.optimize(square)\n",
    "\n",
    "print(recommendation)  # optimal args and kwargs"
   ]
  },
  {
   "cell_type": "markdown",
   "metadata": {},
   "source": [
    "### Full list of optimizers"
   ]
  },
  {
   "cell_type": "code",
   "execution_count": 15,
   "metadata": {},
   "outputs": [],
   "source": [
    "# print(list(sorted(ng.optimizers.registry.keys())))"
   ]
  },
  {
   "cell_type": "code",
   "execution_count": 47,
   "metadata": {},
   "outputs": [
    {
     "name": "stdout",
     "output_type": "stream",
     "text": [
      "Candidate(args=(array([0.47523085, 0.53453307]),), kwargs={'y': -0.00015505662801493502})\n"
     ]
    }
   ],
   "source": [
    "instrum = ng.Instrumentation(ng.var.Array(2), y=ng.var.Array(1).asscalar())\n",
    "\n",
    "optimizer = ng.optimizers.OnePlusOne(instrumentation=instrum, budget=100)\n",
    "\n",
    "recommendation = optimizer.minimize(square)\n",
    "\n",
    "print(recommendation)\n"
   ]
  },
  {
   "cell_type": "code",
   "execution_count": 49,
   "metadata": {},
   "outputs": [
    {
     "name": "stdout",
     "output_type": "stream",
     "text": [
      "5\n",
      "(('b', 'e', 'blublu'), {'value': 7})\n"
     ]
    }
   ],
   "source": [
    "# argument transformation\n",
    "arg1 = ng.var.OrderedDiscrete([\"a\", \"b\"])  # 1st arg. = positional discrete argument\n",
    "arg2 = ng.var.SoftmaxCategorical([\"a\", \"c\", \"e\"])  # 2nd arg. = positional discrete argument\n",
    "value = ng.var.Gaussian(mean=1, std=2)  # the 4th arg. is a keyword argument with Gaussian prior\n",
    "\n",
    "# create the instrumented function\n",
    "instrum = ng.Instrumentation(arg1, arg2, \"blublu\", value=value)\n",
    "# the 3rd arg. is a positional arg. which will be kept constant to \"blublu\"\n",
    "\n",
    "print(instrum.dimension)  # 5 dimensional space\n",
    "\n",
    "# The dimension is 5 because:\n",
    "# - the 1st discrete variable has 1 possible values, represented by a hard thresholding in\n",
    "#   a 1-dimensional space, i.e. we add 1 coordinate to the continuous problem\n",
    "# - the 2nd discrete variable has 3 possible values, represented by softmax, i.e. we add 3 coordinates to the continuous problem\n",
    "# - the 3rd variable has no uncertainty, so it does not introduce any coordinate in the continuous problem\n",
    "# - the 4th variable is a real number, represented by single coordinate.\n",
    "\n",
    "print(instrum.data_to_arguments([1, -80, -80, 80, 3]))\n",
    "# prints (args, kwargs): (('b', 'e', 'blublu'), {'value': 7})\n",
    "# b is selected because 1 > 0 (the threshold is 0 here since there are 2 values.\n",
    "# e is selected because proba(e) = exp(80) / (exp(80) + exp(-80) + exp(-80))\n",
    "# value=7 because 3 * std + mean = 7"
   ]
  },
  {
   "cell_type": "code",
   "execution_count": 55,
   "metadata": {},
   "outputs": [
    {
     "name": "stdout",
     "output_type": "stream",
     "text": [
      "a e blublu\n",
      "a a blublu\n",
      "b e blublu\n",
      "a e blublu\n",
      "b c blublu\n",
      "Candidate(args=('a', 'a', 'blublu'), kwargs={'value': 1.0})\n"
     ]
    }
   ],
   "source": [
    "def myfunction(arg1, arg2, arg3, value=3):\n",
    "    print(arg1, arg2, arg3)\n",
    "    return value**2\n",
    "\n",
    "optimizer = ng.optimizers.OnePlusOne(instrumentation=instrum, budget=5)\n",
    "recommendation = optimizer.minimize(myfunction)\n",
    "\n",
    "print(recommendation)"
   ]
  },
  {
   "cell_type": "code",
   "execution_count": 56,
   "metadata": {},
   "outputs": [
    {
     "name": "stdout",
     "output_type": "stream",
     "text": [
      "('b', 'e', 'blublu')\n",
      "{'value': 0.0}\n",
      " - arg #1: Value b, from data: 1.0\n",
      " - arg #2: Value e, from data: [-80. -80.  80.] yielding probas: \"a\": 0.0%, \"c\": 0.0%, \"e\": 100.0%\n",
      " - kwarg \"value\": Value 0.0, from data: -0.5\n"
     ]
    }
   ],
   "source": [
    "# let us instantiate a fake recommendation for the sake of this tutorial\n",
    "recommendation = optimizer.create_candidate.from_data([1, -80, -80, 80, -.5], deterministic=True)\n",
    "print(recommendation.args)    # should print [\"b\", \"e\", \"blublu\"]\n",
    "print(recommendation.kwargs)  # should print {\"value\": 0} because -.5 * std + mean = 0\n",
    "\n",
    "# but be careful, since some variables are stochastic (SoftmaxCategorical ones are), setting \n",
    "# deterministic=False may yield different results\n",
    "# The following will print more information on the conversion to your arguments:\n",
    "print(instrum.get_summary(recommendation.data))"
   ]
  },
  {
   "cell_type": "code",
   "execution_count": 65,
   "metadata": {},
   "outputs": [
    {
     "name": "stdout",
     "output_type": "stream",
     "text": [
      "Candidate(args=(array([0.53707801, 0.49329983]),), kwargs={'y': 0.0009697290572580983})\n"
     ]
    }
   ],
   "source": [
    "instrum = ng.Instrumentation(ng.var.Array(2), y=ng.var.Array(1).asscalar())\n",
    "optimizer = ng.optimizers.OnePlusOne(instrumentation=instrum, budget=100)\n",
    "recommendation = optimizer.minimize(square)\n",
    "print(recommendation)"
   ]
  },
  {
   "cell_type": "code",
   "execution_count": 133,
   "metadata": {},
   "outputs": [
    {
     "name": "stdout",
     "output_type": "stream",
     "text": [
      "Candidate(args=(array([0.5159646 , 0.27462322]),), kwargs={'y': -0.29969637986698916})\n"
     ]
    },
    {
     "data": {
      "text/plain": [
       "0.35074594084373506"
      ]
     },
     "execution_count": 133,
     "metadata": {},
     "output_type": "execute_result"
    }
   ],
   "source": [
    "from concurrent import futures\n",
    "# instrum.random_state.seed(12)\n",
    "optimizer = ng.optimizers.RandomSearch(instrumentation=instrum, budget=100, num_workers=6)\n",
    "with futures.ProcessPoolExecutor(max_workers=optimizer.num_workers) as executor:\n",
    "    recommendation = optimizer.minimize(square, executor=executor, batch_mode=False)\n",
    "    print(recommendation)\n",
    "    \n",
    "square(recommendation.args[0], y=recommendation.kwargs['y'])"
   ]
  },
  {
   "cell_type": "markdown",
   "metadata": {},
   "source": [
    "### Nevergrad for machine learning"
   ]
  },
  {
   "cell_type": "code",
   "execution_count": 106,
   "metadata": {},
   "outputs": [],
   "source": [
    "def myfunction(lr, num_layers, arg3, arg4, other_anything):\n",
    "    # something to minimize\n",
    "    return -accuracy  "
   ]
  },
  {
   "cell_type": "code",
   "execution_count": 107,
   "metadata": {},
   "outputs": [],
   "source": [
    "# instrument learning rate and number of layers, keep arg3 to 3 and arg4 to 4\n",
    "\n",
    "lr = ng.var.Array(1).asscalar().bounded(0, 3).exponentiated(base=10, coeff=-1)\n",
    "# log distributed between 0.001 and 1\n",
    "num_layers = ng.var.OrderedDiscrete([4, 5, 6])\n",
    "\n",
    "instrumentation = ng.Instrumentation(lr, num_layers, 3., arg4=4)"
   ]
  },
  {
   "cell_type": "code",
   "execution_count": 116,
   "metadata": {},
   "outputs": [
    {
     "name": "stdout",
     "output_type": "stream",
     "text": [
      "(0.03162277660168379, 5, 3.0) {'arg4': 4}\n"
     ]
    }
   ],
   "source": [
    "# check default value (initial guess)\n",
    "args, kwargs = instrumentation.data_to_arguments([0] * instrumentation.dimension)\n",
    "print(args, kwargs)"
   ]
  },
  {
   "cell_type": "code",
   "execution_count": 168,
   "metadata": {},
   "outputs": [
    {
     "name": "stdout",
     "output_type": "stream",
     "text": [
      "Candidate(args=(array([0., 0.]),), kwargs={'y': 0.0}): 0.5\n",
      "Candidate(args=(array([3.94657082, 1.08371297]),), kwargs={'y': 1.2601486642916229}): 13.479719901088748\n",
      "Candidate(args=(array([0.48692353, 0.82116336]),), kwargs={'y': -1.6807666147404596}): 1.7840835114515208\n",
      "Candidate(args=(array([-0.02870206, -0.49399489]),), kwargs={'y': 0.10927790078856424}): 1.3768296210914008\n",
      "Candidate(args=(array([-0.9042828 ,  0.24156515]),), kwargs={'y': 1.1582471202597369}): 3.1970458648996107\n",
      "Candidate(args=(array([0.30220881, 0.30809075]),), kwargs={'y': -0.42969006598419757}): 0.5056405826356624\n",
      "Candidate(args=(array([-0.89244681, -0.71316235]),), kwargs={'y': -1.002554920618855}): 4.4132259457746805\n",
      "Candidate(args=(array([-0.84976284, -0.35743159]),), kwargs={'y': -0.39650395076958955}): 2.9535526055951484\n",
      "Candidate(args=(array([0.39006292, 1.09041546]),), kwargs={'y': 0.847119889290741}): 1.2077964700840498\n",
      "Candidate(args=(array([0.19754312, 0.11974599]),), kwargs={'y': -0.14741628822292122}): 0.3834895644567937\n",
      "\n",
      "Candidate(args=(array([0.19754312, 0.11974599]),), kwargs={'y': -0.14741628822292122}): 0.3834895644567937\n"
     ]
    }
   ],
   "source": [
    "instrum = ng.Instrumentation(ng.var.Array(2), y=ng.var.Array(1).asscalar())\n",
    "optimizer = ng.optimizers.OnePlusOne(instrumentation=instrum, budget=100, num_workers=1)\n",
    "optimizer.budget = 10\n",
    "\n",
    "for _ in range(optimizer.budget):\n",
    "    x = optimizer.ask()\n",
    "    value = square(*x.args, **x.kwargs)\n",
    "    print('{}: {}'.format(x, value))\n",
    "    optimizer.tell(x, value)\n",
    "recommendation = optimizer.provide_recommendation()\n",
    "\n",
    "\n",
    "value = square(*recommendation.args, **recommendation.kwargs)\n",
    "print('\\n{}: {}'.format(recommendation, value))"
   ]
  },
  {
   "cell_type": "markdown",
   "metadata": {},
   "source": [
    "### First example (Optimization of continuous hyperparameters)"
   ]
  },
  {
   "cell_type": "code",
   "execution_count": 214,
   "metadata": {},
   "outputs": [],
   "source": [
    "def train_and_return_test_error(x):\n",
    "    return np.linalg.norm([int(50. * abs(x_ - 0.2)) for x_ in x])\n",
    "\n",
    "instrumentation = ng.Instrumentation(ng.var.Array(300))  # optimize on R^300\n",
    "\n",
    "budget = 1200  # How many trainings we will do before concluding.\n",
    "\n",
    "names = ['RandomSearch', 'OnePlusOne', 'TwoPointsDE', 'PSO']"
   ]
  },
  {
   "cell_type": "code",
   "execution_count": 215,
   "metadata": {},
   "outputs": [
    {
     "name": "stdout",
     "output_type": "stream",
     "text": [
      "• RandomSearch \tprovides a vector of parameters with test error  758.99\n",
      "• OnePlusOne \tprovides a vector of parameters with test error  162.17\n",
      "• TwoPointsDE \tprovides a vector of parameters with test error  383.16\n",
      "• PSO\t \tprovides a vector of parameters with test error 5537.31\n"
     ]
    }
   ],
   "source": [
    "for name in names:\n",
    "    optim = ng.optimizers.registry[name](instrumentation=instrumentation, budget=budget)\n",
    "    for u in range(budget // 3):      \n",
    "        x1 = optim.ask()\n",
    "        # Ask and tell can be asynchronous.\n",
    "        # Just be careful that you \"tell\" something that was asked.\n",
    "        # Here we ask 3 times and tell 3 times in order to fake asynchronicity\n",
    "        x2 = optim.ask()\n",
    "        x3 = optim.ask()\n",
    "        # The three folowing lines could be parallelized.\n",
    "        # We could also do things asynchronously, i.e. do one more ask\n",
    "        # as soon as a training is over.       \n",
    "        y1 = train_and_return_test_error(*x1.args, **x1.kwargs)  # here we only defined an arg, so   \n",
    "        y2 = train_and_return_test_error(*x2.args, **x2.kwargs)  # we could omit kwargs (keeping it\n",
    "        y3 = train_and_return_test_error(*x3.args, **x3.kwargs)  # here for the sake of consistency)\n",
    "        optim.tell(x1, y1)\n",
    "        optim.tell(x2, y2)\n",
    "        optim.tell(x3, y3)\n",
    "   \n",
    "    recommendation = optim.recommend();\n",
    "    if name is 'PSO': name = 'PSO\\t'\n",
    "    print('• {} \\tprovides a vector of parameters with test error {:7.2f}'.format(\n",
    "          name, train_and_return_test_error(*recommendation.args, **recommendation.kwargs)))"
   ]
  },
  {
   "cell_type": "code",
   "execution_count": 206,
   "metadata": {},
   "outputs": [
    {
     "name": "stdout",
     "output_type": "stream",
     "text": [
      "• RandomSearch \tprovides a vector of parameters with test error  761.41\n",
      "• OnePlusOne \tprovides a vector of parameters with test error  167.13\n",
      "• TwoPointsDE \tprovides a vector of parameters with test error  400.04\n",
      "• PSO\t \tprovides a vector of parameters with test error 4532.58\n"
     ]
    }
   ],
   "source": [
    "from concurrent import futures\n",
    "\n",
    "for name in names:\n",
    "    optim = ng.optimizers.registry[name](instrumentation=instrumentation, budget=budget,\n",
    "                                        num_workers=10)\n",
    "    # the executor will evaluate the function in multiple threads\n",
    "    with futures.ThreadPoolExecutor(max_workers=optim.num_workers) as executor:  \n",
    "        recommendation = optim.minimize(train_and_return_test_error, executor=executor)\n",
    "    if name is 'PSO': name = 'PSO\\t'\n",
    "    print('• {} \\tprovides a vector of parameters with test error {:7.2f}'.format(\n",
    "          name, train_and_return_test_error(*recommendation.args, **recommendation.kwargs)))"
   ]
  },
  {
   "cell_type": "markdown",
   "metadata": {},
   "source": [
    "### Second example: optimization of mixed (continuous and discrete) hyperparameters."
   ]
  },
  {
   "cell_type": "code",
   "execution_count": 208,
   "metadata": {},
   "outputs": [],
   "source": [
    "# Let us define a function.\n",
    "def myfunction(arg1, arg2, arg3, value=3):\n",
    "    return np.abs(value) + (1 if arg1 != \"a\" else 0) + (1 if arg2 != \"e\" else 0)\n",
    "\n",
    "# This function must then be instrumented in order to let the optimizer now what are the arguments."
   ]
  },
  {
   "cell_type": "code",
   "execution_count": 218,
   "metadata": {},
   "outputs": [
    {
     "name": "stdout",
     "output_type": "stream",
     "text": [
      "5\n"
     ]
    }
   ],
   "source": [
    "# argument transformation\n",
    "# Optimization of mixed (continuous and discrete) hyperparameters.\n",
    "\n",
    "arg1 = ng.var.OrderedDiscrete([\"a\", \"b\"])  # 1st arg. = positional discrete argument\n",
    "\n",
    "# We apply a softmax for converting real numbers to discrete values.\n",
    "arg2 = ng.var.SoftmaxCategorical([\"a\", \"c\", \"e\"])  # 2nd arg. = positional discrete argument\n",
    "\n",
    "value = ng.var.Gaussian(mean=1, std=2)  # the 4th arg. is a keyword argument with Gaussian prior\n",
    "\n",
    "# create the instrumentation\n",
    "# the 3rd arg. is a positional arg. which will be kept constant to \"blublu\"\n",
    "instrumentation = ng.Instrumentation(arg1, arg2, \"blublu\", value=value)\n",
    "\n",
    "print(instrumentation.dimension)  # 5 dimensional space"
   ]
  },
  {
   "cell_type": "code",
   "execution_count": 219,
   "metadata": {},
   "outputs": [
    {
     "name": "stdout",
     "output_type": "stream",
     "text": [
      "('b', 'e', 'blublu') {'value': 7}\n",
      "8\n"
     ]
    }
   ],
   "source": [
    "args, kwargs = instrumentation.data_to_arguments([1, -80, -80, 80, 3])\n",
    "print(args, kwargs)\n",
    "\n",
    "output = myfunction(*args, **kwargs)\n",
    "\n",
    "print(output)"
   ]
  },
  {
   "cell_type": "code",
   "execution_count": 236,
   "metadata": {},
   "outputs": [
    {
     "name": "stdout",
     "output_type": "stream",
     "text": [
      "• RandomSearch\t\t \tprovides a vector of parameters with test error  1.00\n",
      "• ScrHammersleySearch\t \tprovides a vector of parameters with test error  1.01\n",
      "• TwoPointsDE\t\t \tprovides a vector of parameters with test error  0.00\n",
      "• OnePlusOne\t\t \tprovides a vector of parameters with test error  1.00\n",
      "• PortfolioDiscreteOnePlusOne \tprovides a vector of parameters with test error  1.00\n",
      "• PSO\t\t\t \tprovides a vector of parameters with test error  0.00\n"
     ]
    }
   ],
   "source": [
    "budget = 1200  # How many episode we will do before concluding.\n",
    "names = ['RandomSearch', 'ScrHammersleySearch', 'TwoPointsDE', \n",
    "         'OnePlusOne', 'PortfolioDiscreteOnePlusOne', 'PSO']\n",
    "for name in names:\n",
    "    optim = ng.optimizers.registry[name](instrumentation=instrumentation, budget=budget)\n",
    "    for u in range(budget // 3):\n",
    "        x1 = optim.ask()\n",
    "        x2 = optim.ask()\n",
    "        x3 = optim.ask()\n",
    "\n",
    "        y1 = myfunction(*x1.args, **x1.kwargs)  # here we only defined an arg, so   \n",
    "        y2 = myfunction(*x2.args, **x2.kwargs)  # we could omit kwargs (keeping it\n",
    "        y3 = myfunction(*x3.args, **x3.kwargs)  # here for the sake of consistency)\n",
    "        optim.tell(x1, y1)\n",
    "        optim.tell(x2, y2)\n",
    "        optim.tell(x3, y3)\n",
    "    recommendation = optim.recommend()\n",
    "    name = name + (len(max(names, key=len)) // 8-len(name)//8)*'\\t'\n",
    "    print('• {} \\tprovides a vector of parameters with test error {:5.2f}'.format(\n",
    "          name, myfunction(*recommendation.args, **recommendation.kwargs)))\n"
   ]
  },
  {
   "cell_type": "code",
   "execution_count": 237,
   "metadata": {},
   "outputs": [],
   "source": [
    "# You always have the possibility to define your own instrumentation \n",
    "# inside your function (not recommended):\n",
    "\n",
    "def softmax(x, possible_values=None):\n",
    "    expx = [np.exp(x_ - max(x)) for x_ in x]\n",
    "    probas = [e / sum(expx) for e in expx]\n",
    "    return np.random.choice(len(x) if possible_values is None\n",
    "            else possible_values, size=1, p=probas)\n",
    "\n",
    "\n",
    "def train_and_return_test_error_mixed(x):\n",
    "    cx = [x_ - 0.1 for x_ in x[3:]]\n",
    "    activation = softmax(x[:3], [\"tanh\", \"sigmoid\", \"relu\"])\n",
    "    return np.linalg.norm(cx) + (1. if activation != \"tanh\" else 0.)\n",
    "\n",
    "instrumentation = 10  # you can just provide the size of your input in this case\n",
    "\n",
    "#This version is bigger.\n",
    "def train_and_return_test_error_mixed(x):\n",
    "    cx = x[:(len(x) // 2)]  # continuous part.\n",
    "    presoftmax_values = x[(len(x) // 2):]  # discrete part.\n",
    "    values_for_this_softmax = []\n",
    "    dx = []\n",
    "    for g in presoftmax:\n",
    "        values_for_this_softmax += [g]\n",
    "        if len(values_for_this_softmax) > 4:\n",
    "            dx += softmax(values_for_this_softmax)\n",
    "            values_for_this_softmax = []\n",
    "    return np.linalg.norm([int(50. * abs(x_ - 0.2)) for x_ in cx]) + [\n",
    "            1 if d != 1 else 0 for d in dx]\n",
    "\n",
    "instrumentation = 300"
   ]
  },
  {
   "cell_type": "code",
   "execution_count": null,
   "metadata": {},
   "outputs": [],
   "source": []
  }
 ],
 "metadata": {
  "kernelspec": {
   "display_name": "Python 3",
   "language": "python",
   "name": "python3"
  },
  "language_info": {
   "codemirror_mode": {
    "name": "ipython",
    "version": 3
   },
   "file_extension": ".py",
   "mimetype": "text/x-python",
   "name": "python",
   "nbconvert_exporter": "python",
   "pygments_lexer": "ipython3",
   "version": "3.6.5"
  }
 },
 "nbformat": 4,
 "nbformat_minor": 2
}
