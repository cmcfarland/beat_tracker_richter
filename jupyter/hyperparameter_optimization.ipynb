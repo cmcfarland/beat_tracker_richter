{
 "cells": [
  {
   "cell_type": "code",
   "execution_count": 1,
   "metadata": {},
   "outputs": [],
   "source": [
    "import os\n",
    "import sys\n",
    "import time\n",
    "\n",
    "import numpy as np\n",
    "import pandas as pd\n",
    "import matplotlib.pyplot as plt\n",
    "\n",
    "import torch\n",
    "import torch.nn as nn\n",
    "import torch.nn.functional as F\n",
    "import torch.optim as optim\n",
    "from torch.nn.utils.rnn import pad_sequence\n",
    "from torch.utils.data import Dataset, DataLoader, Subset\n",
    "\n",
    "import nevergrad as ng\n",
    "\n",
    "module_path = os.path.abspath(os.path.join('..'))\n",
    "if module_path not in sys.path:\n",
    "    sys.path.append(module_path)\n",
    "    \n",
    "from python.models import TCN\n",
    "from python.data import Data, collate_fn\n",
    "from python.optimizations import (weight_norm, VariationalDropout, \n",
    "    VariationalHidDropout, WeightDrop, embedded_dropout)\n",
    "\n",
    "from python.utils import *"
   ]
  },
  {
   "cell_type": "code",
   "execution_count": 2,
   "metadata": {},
   "outputs": [
    {
     "name": "stdout",
     "output_type": "stream",
     "text": [
      "Torch version: 1.0.0\n",
      "Device: cpu\n"
     ]
    }
   ],
   "source": [
    "batch_size = 1 \n",
    "\n",
    "device = torch.device(\"cuda\" if torch.cuda.is_available() else \"cpu\")\n",
    "\n",
    "print('Torch version: {}'.format(torch.__version__))\n",
    "print('Device: %s' % (device))\n",
    "if torch.cuda.device_count() > 1: print(\"Let's use\", torch.cuda.device_count(), \"GPUs!\")"
   ]
  },
  {
   "cell_type": "code",
   "execution_count": 3,
   "metadata": {},
   "outputs": [],
   "source": [
    "data = pd.read_csv('../data/data.csv', index_col=0)"
   ]
  },
  {
   "cell_type": "code",
   "execution_count": 4,
   "metadata": {},
   "outputs": [],
   "source": [
    "np.random.seed(1111)\n",
    "\n",
    "train_valid_ratio = 0.9\n",
    "\n",
    "train_indices = np.sort(np.random.choice(data['idx'], int(len(data)*train_valid_ratio), replace=False))\n",
    "valid_indices = np.sort(np.array(list(set(np.arange(len(data))) - set(train_indices))))\n",
    "\n",
    "train_set = Data(data.iloc[train_indices])\n",
    "valid_set = Data(data.iloc[valid_indices])\n",
    "\n",
    "train_loader = DataLoader(dataset=train_set, batch_size=batch_size, shuffle=True, \n",
    "                         drop_last=True, collate_fn=collate_fn)\n",
    "valid_loader = DataLoader(dataset=valid_set, batch_size=len(valid_set), collate_fn=collate_fn)"
   ]
  },
  {
   "cell_type": "code",
   "execution_count": 8,
   "metadata": {},
   "outputs": [],
   "source": [
    "clip = 0.2\n",
    "\n"
   ]
  },
  {
   "cell_type": "code",
   "execution_count": 16,
   "metadata": {},
   "outputs": [],
   "source": [
    "# dummy function\n",
    "def train(nhid, levels, kernel_size, dropout, epochs=3):\n",
    "    \n",
    "    print('call train()')\n",
    "    \n",
    "    input_size = 120\n",
    "    output_size = 2\n",
    "    \n",
    "    clip = 0.2\n",
    "    \n",
    "    model = TCN(input_size, output_size, nhid, levels, kernel_size, dropout).to(device)\n",
    "\n",
    "    if torch.cuda.device_count() > 1:\n",
    "        model = nn.DataParallel(model)\n",
    "        \n",
    "    optimizer = optim.Adam(model.parameters(), lr=5e-5, betas=(0.9, 0.999), eps=1e-08)\n",
    "    \n",
    "    loss_function = nn.NLLLoss(weight=torch.tensor([1., 70.], dtype=torch.double).to(device))\n",
    "\n",
    "        \n",
    "    for epoch in range(epochs):  \n",
    "        for i, (feature, label) in enumerate(train_loader):\n",
    "\n",
    "            # Clear out accumulates gradients \n",
    "            model.zero_grad()\n",
    "\n",
    "            # Forward pass\n",
    "            out = model(feature.to(device))\n",
    "\n",
    "            # Backward propagation\n",
    "            loss = loss_function(out, label.to(device))\n",
    "#             train_loss_vec.append(loss.item())\n",
    "            loss.backward()    \n",
    "            if clip > 0:\n",
    "                torch.nn.utils.clip_grad_norm_(model.parameters(), clip)\n",
    "            optimizer.step()\n",
    "\n",
    "        with torch.no_grad():\n",
    "            input, label = next(iter(valid_loader))\n",
    "\n",
    "            out = model(input.to(device))\n",
    "            loss = loss_function(out, label.to(device))\n",
    "#             valid_loss_vec.append(loss.item())\n",
    "\n",
    "            print('Epoch: {:2d}   Validation Loss: {:.3e}'.format(epoch+1, loss.item()))\n",
    "\n",
    "    #     torch.save(model.state_dict(), '../models/lstm_ballroom_epoch'+ \n",
    "    #                str(epoch+1)+'_vloss_{:.5}.pt'.format(loss.item()))\n",
    "\n",
    "    return loss"
   ]
  },
  {
   "cell_type": "code",
   "execution_count": 18,
   "metadata": {},
   "outputs": [],
   "source": [
    "# argument transformation\n",
    "\n",
    "nhid = ng.var.OrderedDiscrete([60, 80, 100, 120])\n",
    "levels =  ng.var.OrderedDiscrete([6, 7, 8])\n",
    "kernel_size = ng.var.OrderedDiscrete([4, 5, 6])\n",
    "dropout = ng.var.OrderedDiscrete([0.1, 0.2, 0.3, 0.4, 0.5])\n",
    "\n",
    "# nhid = ng.var.Scalar(int).bounded(10, 200)\n",
    "# dropout = ng.var.Scalar(float).bounded(0.1, 0.5)\n",
    "\n",
    "budget = 10 \n",
    "\n",
    "instrum = ng.Instrumentation(nhid, levels, kernel_size, dropout)\n",
    "\n",
    "optimizer = ng.optimizers.OnePlusOne(instrumentation=instrum, budget=budget)\n",
    "\n",
    "recommendation = optimizer.optimize(train)"
   ]
  },
  {
   "cell_type": "code",
   "execution_count": 74,
   "metadata": {},
   "outputs": [
    {
     "name": "stdout",
     "output_type": "stream",
     "text": [
      "Candidate(args=(55, 6, 7, 0.1999999756279673), kwargs={})\n"
     ]
    }
   ],
   "source": [
    "print(recommendation)"
   ]
  }
 ],
 "metadata": {
  "kernelspec": {
   "display_name": "Python 3",
   "language": "python",
   "name": "python3"
  },
  "language_info": {
   "codemirror_mode": {
    "name": "ipython",
    "version": 3
   },
   "file_extension": ".py",
   "mimetype": "text/x-python",
   "name": "python",
   "nbconvert_exporter": "python",
   "pygments_lexer": "ipython3",
   "version": "3.6.5"
  }
 },
 "nbformat": 4,
 "nbformat_minor": 2
}
