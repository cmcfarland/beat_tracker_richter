{
 "cells": [
  {
   "cell_type": "code",
   "execution_count": 3,
   "metadata": {},
   "outputs": [],
   "source": [
    "import os\n",
    "import sys\n",
    "import time\n",
    "\n",
    "import numpy as np\n",
    "import pandas as pd\n",
    "import matplotlib.pyplot as plt\n",
    "\n",
    "import torch\n",
    "import torch.nn as nn\n",
    "import torch.nn.functional as F\n",
    "import torch.optim as optim\n",
    "from torch.utils.data import Dataset, DataLoader, Subset\n",
    "import nevergrad as ng\n",
    "\n",
    "module_path = os.path.abspath(os.path.join('..'))\n",
    "if module_path not in sys.path:\n",
    "    sys.path.append(module_path)\n",
    "    \n",
    "from python.models import TCN_Davies\n",
    "from python.data import Data, collate_fn\n",
    "from python.optimizations import (weight_norm, VariationalDropout, \n",
    "    VariationalHidDropout, WeightDrop, embedded_dropout)\n",
    "from python.utils import *"
   ]
  },
  {
   "cell_type": "code",
   "execution_count": 4,
   "metadata": {},
   "outputs": [
    {
     "name": "stdout",
     "output_type": "stream",
     "text": [
      "Torch version: 1.1.0\n",
      "Device: cpu\n"
     ]
    }
   ],
   "source": [
    "device = torch.device(\"cuda\" if torch.cuda.is_available() else \"cpu\")\n",
    "\n",
    "print('Torch version: {}'.format(torch.__version__))\n",
    "print('Device: %s' % (device))\n",
    "if torch.cuda.device_count() > 1: print(\"Let's use\", torch.cuda.device_count(), \"GPUs!\")"
   ]
  },
  {
   "cell_type": "code",
   "execution_count": 5,
   "metadata": {},
   "outputs": [],
   "source": [
    "data = pd.read_csv('../data/data.csv', index_col=0)"
   ]
  },
  {
   "cell_type": "code",
   "execution_count": 25,
   "metadata": {},
   "outputs": [],
   "source": [
    "np.random.seed(1111)\n",
    "\n",
    "data = data[data['data_set'] == 1][0:5]\n",
    "\n",
    "batch_size = 2\n",
    "\n",
    "train_valid_ratio = 0.9\n",
    "\n",
    "train_indices = np.sort(np.random.choice(data['idx'], int(len(data)*train_valid_ratio), replace=False))\n",
    "valid_indices = np.sort(np.array(list(set(np.arange(len(data))) - set(train_indices))))\n",
    "\n",
    "train_set = Data(data.iloc[train_indices])\n",
    "valid_set = Data(data.iloc[valid_indices])\n",
    "\n",
    "train_loader = DataLoader(dataset=train_set, batch_size=batch_size, shuffle=True, \n",
    "                         drop_last=True, collate_fn=collate_fn)\n",
    "valid_loader = DataLoader(dataset=valid_set, batch_size=len(valid_set), collate_fn=collate_fn)\n",
    "\n",
    "file = open('output.log','w') "
   ]
  },
  {
   "cell_type": "markdown",
   "metadata": {},
   "source": [
    "## Objective functions"
   ]
  },
  {
   "cell_type": "code",
   "execution_count": 26,
   "metadata": {
    "code_folding": [
     0
    ]
   },
   "outputs": [],
   "source": [
    "def validation_loss(nhid, levels, kernel_size, dropout, epochs=500):\n",
    "    print('call validation_loss(nhid={}, levels={}, kernel_size={}, dropout={})'.format(\n",
    "        nhid, levels, kernel_size, dropout), file=open('output.log','a'))\n",
    "    \n",
    "    valid_loss_vec = []\n",
    "    clip = 0.2\n",
    "\n",
    "    model = TCN_Davies(nhid, levels, kernel_size, dropout).to(device)\n",
    "    if torch.cuda.device_count() > 1:\n",
    "        model = nn.DataParallel(model)\n",
    "        \n",
    "    optimizer = optim.Adam(model.parameters(), lr=1e-3, betas=(0.9, 0.999), eps=1e-08)\n",
    "    loss_function = nn.NLLLoss(weight=torch.tensor([1., 70.], dtype=torch.double).to(device))\n",
    "  \n",
    "    for epoch in range(epochs): \n",
    "        print('Epoch: {:4d}'.format(epoch), end='   ', file=open('output.log','a'))\n",
    "        \n",
    "        for i, (feature, label) in enumerate(train_loader):\n",
    "            model.zero_grad()  # clear out accumulates gradients \n",
    "            out = model(feature.to(device))\n",
    "            loss = loss_function(out, label.to(device))\n",
    "            loss.backward()    \n",
    "            if clip > 0:\n",
    "                torch.nn.utils.clip_grad_norm_(model.parameters(), clip)\n",
    "            optimizer.step()\n",
    "\n",
    "        with torch.no_grad():\n",
    "            input, label = next(iter(valid_loader))\n",
    "            out = model(input.to(device))\n",
    "            loss = loss_function(out, label.to(device)).item()\n",
    "            valid_loss_vec.append(loss)\n",
    "            \n",
    "            min_idx = np.argmin(valid_loss_vec)\n",
    "            \n",
    "        print('Validation Loss: {:.3}'.format(loss), file=open('output.log','a'))\n",
    "        \n",
    "        # Early stopping\n",
    "        if epoch > min_idx + 30:\n",
    "            print('early stopping', file=open('output.log','a'))\n",
    "            break       \n",
    "    \n",
    "    min_idx = np.argmin(valid_loss_vec)\n",
    "    min_loss = np.min(valid_loss_vec)\n",
    "\n",
    "    print('Minimum at {} of {}: {:.3}\\n'.format(min_idx, len(valid_loss_vec), min_loss), \n",
    "         file=open('output.log','a'))\n",
    "    file.close()\n",
    "    return loss"
   ]
  },
  {
   "cell_type": "code",
   "execution_count": 31,
   "metadata": {
    "code_folding": [
     0
    ]
   },
   "outputs": [],
   "source": [
    "def rate_of_convergence(batch_size, learning_rate, timeout=10):\n",
    "    print('call rate_of_convergence(batch_size={:d}, learning_rate={:.0e})'.format(\n",
    "        batch_size, learning_rate), file=open('output.log','a'))\n",
    "    \n",
    "    start = int(time.time())\n",
    "    \n",
    "    valid_loss_vec = []\n",
    "    clip = 0.2\n",
    "     \n",
    "    nhid = 16\n",
    "    levels = 10\n",
    "    kernel_size = 5\n",
    "    dropout = 0.1\n",
    "\n",
    "    model = TCN_Davies(nhid, levels, kernel_size, dropout).to(device)\n",
    "    if torch.cuda.device_count() > 1:\n",
    "        model = nn.DataParallel(model)\n",
    "        \n",
    "    train_loader = DataLoader(dataset=train_set, batch_size=batch_size, shuffle=True, \n",
    "                         drop_last=True, collate_fn=collate_fn)    \n",
    "        \n",
    "    optimizer = optim.Adam(model.parameters(), lr=learning_rate, betas=(0.9, 0.999), eps=1e-08)\n",
    "    loss_function = nn.NLLLoss(weight=torch.tensor([1., 70.], dtype=torch.double).to(device))\n",
    "  \n",
    "    for epoch in range(1000): \n",
    "        print('Epoch: {:4d}'.format(epoch), end='   ', file=open('output.log','a'))\n",
    "        \n",
    "        for i, (feature, label) in enumerate(train_loader):\n",
    "            model.zero_grad()  # clear out accumulates gradients \n",
    "            out = model(feature.to(device))\n",
    "            loss = loss_function(out, label.to(device))\n",
    "            loss.backward()    \n",
    "            if clip > 0:\n",
    "                torch.nn.utils.clip_grad_norm_(model.parameters(), clip)\n",
    "            optimizer.step()\n",
    "\n",
    "        with torch.no_grad():\n",
    "            input, label = next(iter(valid_loader))\n",
    "            out = model(input.to(device))\n",
    "            loss = loss_function(out, label.to(device)).item()\n",
    "            valid_loss_vec.append(loss)\n",
    "            \n",
    "            min_idx = np.argmin(valid_loss_vec)\n",
    "            \n",
    "        print('Validation Loss: {:.3}'.format(loss), file=open('output.log','a'))\n",
    "        end = int(time.time())\n",
    "        \n",
    "        # timeout\n",
    "        if (end - start)/60 > timeout:\n",
    "            break\n",
    "            \n",
    "    min_idx = np.argmin(valid_loss_vec)\n",
    "    min_loss = np.min(valid_loss_vec)\n",
    "\n",
    "    print('Minimum at {} of {}: {:.3}\\n'.format(min_idx, len(valid_loss_vec), min_loss), \n",
    "         file=open('output.log','a'))\n",
    "    file.close()\n",
    "    return min_loss"
   ]
  },
  {
   "cell_type": "code",
   "execution_count": 33,
   "metadata": {},
   "outputs": [],
   "source": [
    "# argument transformation\n",
    "nhid = ng.var.OrderedDiscrete([70, 80, 90, 100])\n",
    "levels =  ng.var.OrderedDiscrete([6, 7, 8, 9])\n",
    "kernel_size = ng.var.OrderedDiscrete([4, 5, 6, 7, 8])\n",
    "dropout = ng.var.OrderedDiscrete([0.0 , 0.05, 0.1, 0.15, 0.2, 0.3])\n",
    "\n",
    "batch_size =  ng.var.OrderedDiscrete([50, 100, 150, 200])\n",
    "learning_rate = ng.var.OrderedDiscrete([1e-2, 5e-2, 1e-3, 5e-3])\n",
    "\n",
    "budget = 10 \n",
    "\n",
    "instrum = ng.Instrumentation(nhid, levels, kernel_size, dropout)\n",
    "instrum2 = ng.Instrumentation(batch_size, learning_rate)\n",
    "\n",
    "optimizer = ng.optimizers.OnePlusOne(instrumentation=instrum2, budget=budget)\n",
    "\n",
    "recommendation = optimizer.optimize(rate_of_convergence)"
   ]
  },
  {
   "cell_type": "code",
   "execution_count": 36,
   "metadata": {},
   "outputs": [],
   "source": [
    "print(recommendation)"
   ]
  },
  {
   "cell_type": "code",
   "execution_count": null,
   "metadata": {},
   "outputs": [],
   "source": []
  }
 ],
 "metadata": {
  "kernelspec": {
   "display_name": "Python 3",
   "language": "python",
   "name": "python3"
  },
  "language_info": {
   "codemirror_mode": {
    "name": "ipython",
    "version": 3
   },
   "file_extension": ".py",
   "mimetype": "text/x-python",
   "name": "python",
   "nbconvert_exporter": "python",
   "pygments_lexer": "ipython3",
   "version": "3.6.5"
  }
 },
 "nbformat": 4,
 "nbformat_minor": 2
}
