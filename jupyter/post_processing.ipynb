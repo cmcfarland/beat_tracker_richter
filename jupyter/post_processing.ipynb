{
 "cells": [
  {
   "cell_type": "code",
   "execution_count": 1,
   "metadata": {},
   "outputs": [],
   "source": [
    "# %matplotlib notebook\n",
    "\n",
    "import os\n",
    "import sys\n",
    "import time\n",
    "\n",
    "import numpy as np\n",
    "import pandas as pd\n",
    "from numpy import Infinity\n",
    "\n",
    "import torch\n",
    "import torch.nn as nn\n",
    "import torch.nn.functional as F\n",
    "\n",
    "import matplotlib.pyplot as plt\n",
    "from scipy.sparse import csr_matrix\n",
    "\n",
    "module_path = os.path.abspath(os.path.join('..'))\n",
    "if module_path not in sys.path:\n",
    "    sys.path.append(module_path)\n",
    "\n",
    "from python.models import TCN_Davies\n",
    "from python.utils import *"
   ]
  },
  {
   "cell_type": "code",
   "execution_count": 2,
   "metadata": {},
   "outputs": [
    {
     "name": "stdout",
     "output_type": "stream",
     "text": [
      "Torch version: 1.3.1\n",
      "Device: cpu\n"
     ]
    }
   ],
   "source": [
    "print('Torch version: {}'.format(torch.__version__))\n",
    "\n",
    "device = torch.device(\"cuda\" if torch.cuda.is_available() else \"cpu\")\n",
    "print('Device: %s' % (device))"
   ]
  },
  {
   "cell_type": "code",
   "execution_count": 3,
   "metadata": {},
   "outputs": [],
   "source": [
    "data = pd.read_csv('../data/data.csv', index_col=0)\n",
    "\n",
    "nhid = 16\n",
    "levels = 10\n",
    "kernel_size = 5\n",
    "dropout = 0.1\n",
    "\n",
    "model = TCN_Davies(nhid, levels, kernel_size, dropout)\n",
    "model = nn.DataParallel(model)\n",
    "model.load_state_dict(torch.load('../models/TCN_Davies_1202_0.17.pt', map_location=device))\n",
    "model.eval();"
   ]
  },
  {
   "cell_type": "markdown",
   "metadata": {},
   "source": [
    "## State space"
   ]
  },
  {
   "cell_type": "code",
   "execution_count": 4,
   "metadata": {
    "code_folding": [
     14
    ]
   },
   "outputs": [],
   "source": [
    "# State space\n",
    "\n",
    "fps = 100\n",
    "\n",
    "min_bpm = 56\n",
    "max_bpm = 215\n",
    "\n",
    "min_interval = int(60. * fps / max_bpm) #  27 frames\n",
    "max_interval = int(60. * fps / min_bpm) # 107 frames\n",
    "\n",
    "intervals = np.arange(min_interval, max_interval + 1)\n",
    "\n",
    "num_intervals = False\n",
    "\n",
    "if num_intervals:\n",
    "    num_log_intervals = num_intervals\n",
    "    intervals = []\n",
    "    while len(intervals) < num_intervals:\n",
    "        intervals = np.logspace(np.log2(min_interval),\n",
    "                                np.log2(max_interval),\n",
    "                                num_log_intervals, base=2)\n",
    "        # quantize to integer intervals\n",
    "        intervals = np.unique(np.round(intervals))\n",
    "        num_log_intervals += 1\n",
    "        \n",
    "num_states = int(np.sum(intervals))\n",
    "num_intervals = len(intervals)\n",
    "\n",
    "first_states = np.cumsum(np.r_[0, intervals[:-1]])\n",
    "last_states = np.cumsum(intervals) - 1\n",
    "\n",
    "# define the positions and intervals of the states\n",
    "state_positions = np.empty(num_states)\n",
    "state_intervals = np.empty(num_states, dtype=np.int)\n",
    "\n",
    "idx = 0\n",
    "for i in intervals:\n",
    "    state_positions[idx: idx + i] = np.linspace(0, 1, i, endpoint=False)\n",
    "    state_intervals[idx: idx + i] = i\n",
    "    idx += i"
   ]
  },
  {
   "cell_type": "code",
   "execution_count": 5,
   "metadata": {},
   "outputs": [
    {
     "data": {
      "text/plain": [
       "5427"
      ]
     },
     "execution_count": 5,
     "metadata": {},
     "output_type": "execute_result"
    }
   ],
   "source": [
    "num_states"
   ]
  },
  {
   "cell_type": "markdown",
   "metadata": {},
   "source": [
    "## Transition model"
   ]
  },
  {
   "cell_type": "code",
   "execution_count": 6,
   "metadata": {
    "code_folding": []
   },
   "outputs": [],
   "source": [
    "# Transition model\n",
    "\n",
    "def exponential_transition(from_intervals, to_intervals, transition_lambda):\n",
    "    \n",
    "    ratio = to_intervals / from_intervals[:, np.newaxis]\n",
    "    prob = np.exp(-transition_lambda * abs(ratio - 1.))\n",
    "    \n",
    "    # set values below threshold to 0\n",
    "    prob[prob <= np.spacing(1)] = 0\n",
    "    \n",
    "    # normalize the emission probabilities\n",
    "    prob /= np.sum(prob, axis=1)[:, np.newaxis]\n",
    "    \n",
    "    return prob\n",
    "\n",
    "\n",
    "def make_sparse(states, prev_states, probabilities):\n",
    "    # check for a proper probability distribution, i.e. the emission\n",
    "    # probabilities of each prev_state must sum to 1\n",
    "    \n",
    "    if not np.allclose(np.bincount(prev_states, weights=probabilities), 1):\n",
    "        raise ValueError('Not a probability distribution.')\n",
    "        \n",
    "    num_states = max(prev_states) + 1\n",
    "    \n",
    "    transitions = csr_matrix((probabilities, (states, prev_states)), \n",
    "                             shape=(num_states, num_states))\n",
    "    \n",
    "    # convert to correct types\n",
    "    states = transitions.indices.astype(np.uint32)\n",
    "    pointers = transitions.indptr.astype(np.uint32)\n",
    "    probabilities = transitions.data.astype(dtype=np.float)\n",
    "    # return them\n",
    "    return states, pointers, probabilities\n",
    "\n",
    "transition_lambda = 100.0\n",
    "\n",
    "states = np.arange(num_states, dtype=np.uint32)\n",
    "\n",
    "# The probabiity of advancing to the next state is 1 \n",
    "# except the transition from the last_state in a beat \n",
    "states = np.setdiff1d(states, first_states)\n",
    "prev_states = states - 1\n",
    "probabilities = np.ones_like(states, dtype=np.float)\n",
    "\n",
    "# tempo transitions occur at the boundary between beats\n",
    "from_states = last_states\n",
    "to_states = first_states\n",
    "\n",
    "from_int = state_intervals[from_states]\n",
    "to_int = state_intervals[to_states]\n",
    "\n",
    "prob = exponential_transition(from_int, to_int, transition_lambda)\n",
    "\n",
    "# use only the states with transitions to/from != 0\n",
    "from_prob, to_prob = np.nonzero(prob)\n",
    "\n",
    "states = np.hstack((states, to_states[to_prob]))\n",
    "\n",
    "prev_states = np.hstack((prev_states, from_states[from_prob]))\n",
    "probabilities = np.hstack((probabilities, prob[prob != 0]))\n",
    "\n",
    "tm_indices, tm_pointers, tm_probabilities = make_sparse(states, prev_states, probabilities)\n",
    "\n",
    "tm_probabilities = np.log(tm_probabilities)\n",
    "\n",
    "transition_model = (tm_indices, tm_pointers, tm_probabilities, num_states)"
   ]
  },
  {
   "cell_type": "markdown",
   "metadata": {},
   "source": [
    "## Example processing"
   ]
  },
  {
   "cell_type": "code",
   "execution_count": 60,
   "metadata": {},
   "outputs": [
    {
     "data": {
      "image/png": "[encoded data removed]",
      "text/plain": [
       "<Figure size 432x288 with 1 Axes>"
      ]
     },
     "metadata": {},
     "output_type": "display_data"
    }
   ],
   "source": [
    "observations = np.sin(np.linspace(-0.2, 10, 51)).clip(0.0, 1.0)\n",
    "\n",
    "plt.figure(0)\n",
    "plt.plot(observations);"
   ]
  },
  {
   "cell_type": "markdown",
   "metadata": {},
   "source": [
    "## Cut observations"
   ]
  },
  {
   "cell_type": "code",
   "execution_count": 61,
   "metadata": {},
   "outputs": [
    {
     "data": {
      "image/png": "[encoded data removed]",
      "text/plain": [
       "<Figure size 432x288 with 1 Axes>"
      ]
     },
     "metadata": {},
     "output_type": "display_data"
    }
   ],
   "source": [
    "beats = []\n",
    "correct = True\n",
    "threshold = 0.5;\n",
    "\n",
    "\n",
    "first = 0\n",
    "# use only the activations > threshold\n",
    "if threshold:\n",
    "    idx = np.nonzero(observations >= threshold)[0]\n",
    "    if idx.any():\n",
    "        first = max(first, np.min(idx))\n",
    "        last = min(len(observations), np.max(idx) + 1)\n",
    "    else:\n",
    "        last = first\n",
    "    observations = observations[first:last]    \n",
    "    \n",
    "plt.figure(1)\n",
    "plt.plot(observations);"
   ]
  },
  {
   "cell_type": "markdown",
   "metadata": {},
   "source": [
    "## Observation model"
   ]
  },
  {
   "cell_type": "code",
   "execution_count": 62,
   "metadata": {
    "code_folding": []
   },
   "outputs": [
    {
     "name": "stderr",
     "output_type": "stream",
     "text": [
      "/Users/juliusrichter/anaconda3/lib/python3.6/site-packages/ipykernel_launcher.py:16: RuntimeWarning: divide by zero encountered in log\n",
      "  app.launch_new_instance()\n"
     ]
    }
   ],
   "source": [
    "# Observation model\n",
    "\n",
    "observation_lambda = 16\n",
    "\n",
    "om_pointers = np.zeros(num_states, dtype=np.uint32)\n",
    "\n",
    "# unless they are in the beat range of the state space\n",
    "border = 1. / observation_lambda\n",
    "    \n",
    "om_pointers[state_positions < border] = 1\n",
    "\n",
    "om_densities = np.empty((len(observations), 2), dtype=np.float)\n",
    "\n",
    "om_densities[:, 0] = np.log((1. - observations) /\n",
    "                             (observation_lambda - 1))\n",
    "om_densities[:, 1] = np.log(observations)\n",
    "\n",
    "observation_model = (om_pointers, om_densities)"
   ]
  },
  {
   "cell_type": "markdown",
   "metadata": {},
   "source": [
    "## Initial distribution"
   ]
  },
  {
   "cell_type": "code",
   "execution_count": 51,
   "metadata": {},
   "outputs": [],
   "source": [
    "init_distribution = np.ones(num_states, dtype=np.float) / num_states"
   ]
  },
  {
   "cell_type": "markdown",
   "metadata": {},
   "source": [
    "## Viterbi algorithm (python)"
   ]
  },
  {
   "cell_type": "code",
   "execution_count": 75,
   "metadata": {
    "code_folding": []
   },
   "outputs": [],
   "source": [
    "def viterbi(observations, transition_model, observation_model, init_distribution):\n",
    "    \n",
    "    tm_indices, tm_pointers, tm_probabilities, num_states = transition_model\n",
    "    om_pointers, om_densities = observation_model\n",
    "    \n",
    "    num_frames = len(observations)\n",
    "    \n",
    "    bt_pointers = np.empty((num_frames, num_states), dtype=np.uint32)\n",
    "    \n",
    "    path = np.empty(num_frames, dtype=np.uint32)\n",
    "    \n",
    "    current_viterbi = np.empty(num_states, dtype=np.float)\n",
    "    previous_viterbi = np.log(init_distribution)\n",
    "            \n",
    "    for frame in range(num_frames):\n",
    "        print(\"Progress Frame {:d} of {:d}\".format(frame+1, num_frames), end=\"\\r\")\n",
    "        \n",
    "        for state in range(num_states):\n",
    "            current_viterbi[state] = -Infinity\n",
    "            density = om_densities[frame, om_pointers[state]]\n",
    "           \n",
    "            for pointer in range(tm_pointers[state], tm_pointers[state + 1]):\n",
    "                prev_state = tm_indices[pointer]\n",
    "                transition_prob = previous_viterbi[prev_state] + tm_probabilities[pointer] + density\n",
    "                \n",
    "                if transition_prob > current_viterbi[state]:\n",
    "                    # update the transition probability\n",
    "                    current_viterbi[state] = transition_prob\n",
    "                    # update the back tracking pointers\n",
    "                    bt_pointers[frame, state] = prev_state\n",
    "        \n",
    "        previous_viterbi = current_viterbi\n",
    "    \n",
    "    state = current_viterbi.argmax()\n",
    "    \n",
    "    for frame in range(num_frames -1, -1, -1):\n",
    "        path[frame] = state\n",
    "        state = bt_pointers[frame, state]\n",
    "   \n",
    "    return path"
   ]
  },
  {
   "cell_type": "code",
   "execution_count": 76,
   "metadata": {},
   "outputs": [
    {
     "name": "stdout",
     "output_type": "stream",
     "text": [
      "Progress Frame 41 of 41\n",
      "Elapsed time: 0 min and 0 s\n"
     ]
    }
   ],
   "source": [
    "start = time.time()\n",
    "path = viterbi(observations, transition_model, observation_model, init_distribution)\n",
    "end = time.time()\n",
    "print('\\nElapsed time: {:d} min and {:d} s'.format(np.int((end - start)/60), np.int((end - start) % 60)))"
   ]
  },
  {
   "cell_type": "code",
   "execution_count": 92,
   "metadata": {
    "scrolled": true
   },
   "outputs": [
    {
     "data": {
      "text/plain": [
       "array([311, 312, 313, 314, 279, 280, 281, 282, 283, 284, 285, 286, 287,\n",
       "       288, 289, 290, 291, 292, 293, 294, 295, 296, 297, 298, 299, 300,\n",
       "       301, 302, 303, 304, 305, 306, 307, 308, 309, 310, 311, 312, 313,\n",
       "       314,   0], dtype=uint32)"
      ]
     },
     "execution_count": 92,
     "metadata": {},
     "output_type": "execute_result"
    }
   ],
   "source": [
    "path"
   ]
  },
  {
   "cell_type": "code",
   "execution_count": 96,
   "metadata": {},
   "outputs": [],
   "source": [
    "beats = np.empty(0, dtype=np.int)\n",
    "\n",
    "if correct:\n",
    "    # for each detection determine the \"beat range\", i.e. states where\n",
    "    # the pointers of the observation model are 1\n",
    "    beat_range = om_pointers[path]\n",
    "    # get all change points between True and False\n",
    "    idx = np.nonzero(np.diff(beat_range))[0] + 1\n",
    "    # if the first frame is in the beat range, add a change at frame 0\n",
    "    if beat_range[0]:\n",
    "        idx = np.r_[0, idx]\n",
    "    # if the last frame is in the beat range, append the length of the\n",
    "    # array\n",
    "    if beat_range[-1]:\n",
    "        idx = np.r_[idx, beat_range.size]\n",
    "    # iterate over all regions\n",
    "    if idx.any():\n",
    "        for left, right in idx.reshape((-1, 2)):\n",
    "            left = np.maximum(0,left - (right - left))\n",
    "            \n",
    "            # pick the frame with the highest activations value\n",
    "            peak = np.argmax(observations[left:right]) + left\n",
    "            beats = np.hstack((beats, peak))\n",
    "else:\n",
    "    # just take the frames with the smallest beat state values\n",
    "    from scipy.signal import argrelmin\n",
    "    beats = argrelmin(state_positions[path], mode='wrap')[0]\n",
    "    # recheck if they are within the \"beat range\", i.e. the pointers\n",
    "    # of the observation model for that state must be 1\n",
    "    # Note: interpolation and alignment of the beats to be at state 0\n",
    "    #       does not improve results over this simple method\n",
    "    beats = beats[pointers_om[path[beats]] == 1]\n",
    "# convert the detected beats to seconds and return them\n",
    "\n",
    "beats = (beats) "
   ]
  },
  {
   "cell_type": "code",
   "execution_count": 103,
   "metadata": {},
   "outputs": [
    {
     "data": {
      "text/plain": [
       "array([311, 312, 313, 314, 279, 280, 281, 282, 283, 284, 285, 286, 287,\n",
       "       288, 289, 290, 291, 292, 293, 294, 295, 296, 297, 298, 299, 300,\n",
       "       301, 302, 303, 304, 305, 306, 307, 308, 309, 310, 311, 312, 313,\n",
       "       314,   0], dtype=uint32)"
      ]
     },
     "execution_count": 103,
     "metadata": {},
     "output_type": "execute_result"
    }
   ],
   "source": [
    "path"
   ]
  },
  {
   "cell_type": "code",
   "execution_count": 100,
   "metadata": {},
   "outputs": [
    {
     "data": {
      "text/plain": [
       "array([ 5, 39])"
      ]
     },
     "execution_count": 100,
     "metadata": {},
     "output_type": "execute_result"
    }
   ],
   "source": [
    "beats"
   ]
  },
  {
   "cell_type": "code",
   "execution_count": 87,
   "metadata": {},
   "outputs": [
    {
     "data": {
      "text/plain": [
       "4"
      ]
     },
     "execution_count": 87,
     "metadata": {},
     "output_type": "execute_result"
    }
   ],
   "source": [
    "first"
   ]
  },
  {
   "cell_type": "markdown",
   "metadata": {},
   "source": [
    "## Viterbi algorithm (cython)"
   ]
  },
  {
   "cell_type": "code",
   "execution_count": 67,
   "metadata": {},
   "outputs": [
    {
     "name": "stdout",
     "output_type": "stream",
     "text": [
      "The Cython extension is already loaded. To reload it, use:\n",
      "  %reload_ext Cython\n"
     ]
    }
   ],
   "source": [
    "%load_ext Cython"
   ]
  },
  {
   "cell_type": "code",
   "execution_count": 68,
   "metadata": {
    "code_folding": []
   },
   "outputs": [],
   "source": [
    "%%cython\n",
    "\n",
    "cimport numpy as np\n",
    "import numpy as np\n",
    "\n",
    "import warnings\n",
    "\n",
    "cimport cython\n",
    "\n",
    "from numpy.math cimport INFINITY\n",
    "\n",
    "ctypedef np.uint32_t uint32_t\n",
    "\n",
    "@cython.cdivision(True)\n",
    "@cython.boundscheck(False)\n",
    "@cython.wraparound(False)\n",
    "def viterbi_c(observations, transition_model, observation_model, initial_distribution):\n",
    "    \n",
    "    _tm_indices, _tm_pointers, _tm_probabilities, _num_states = transition_model\n",
    "    _om_pointers, _om_densities = observation_model\n",
    "    \n",
    "    cdef uint32_t [::1] tm_states = _tm_indices\n",
    "    cdef uint32_t [::1] tm_pointers = _tm_pointers\n",
    "    cdef double [::1] tm_probabilities = _tm_probabilities\n",
    "    cdef unsigned int num_states = _num_states\n",
    "\n",
    "    cdef unsigned int num_observations = len(observations)\n",
    "    cdef uint32_t [::1] om_pointers = _om_pointers\n",
    "    cdef double [:, ::1] om_densities = _om_densities\n",
    "\n",
    "    cdef double [::1] current_viterbi = np.empty(num_states, dtype=np.float)\n",
    "\n",
    "    cdef double [::1] previous_viterbi = np.log(initial_distribution)\n",
    "\n",
    "    cdef uint32_t [:, ::1] bt_pointers = np.empty((num_observations,\n",
    "                                                   num_states),\n",
    "                                                  dtype=np.uint32)\n",
    "\n",
    "    cdef unsigned int state, frame, prev_state, pointer\n",
    "    cdef double density, transition_prob\n",
    "\n",
    "    for frame in range(num_observations):\n",
    "\n",
    "        for state in range(num_states):\n",
    "\n",
    "            current_viterbi[state] = -INFINITY\n",
    "            density = om_densities[frame, om_pointers[state]]\n",
    "\n",
    "            for pointer in range(tm_pointers[state], tm_pointers[state + 1]):\n",
    "\n",
    "                prev_state = tm_states[pointer]\n",
    "\n",
    "                transition_prob = previous_viterbi[prev_state] + \\\n",
    "                                  tm_probabilities[pointer] + density\n",
    "\n",
    "                if transition_prob > current_viterbi[state]:\n",
    "                    current_viterbi[state] = transition_prob\n",
    "                    bt_pointers[frame, state] = prev_state\n",
    "\n",
    "        previous_viterbi[:] = current_viterbi\n",
    "\n",
    "    state = np.asarray(current_viterbi).argmax()\n",
    "    log_probability = current_viterbi[state]\n",
    "\n",
    "    if np.isinf(log_probability):\n",
    "        warnings.warn('-inf log probability during Viterbi decoding '\n",
    "                      'cannot find a valid path', RuntimeWarning)\n",
    "        return np.empty(0, dtype=np.uint32), log_probability\n",
    "\n",
    "    path = np.empty(num_observations, dtype=np.uint32)\n",
    "\n",
    "    for frame in range(num_observations -1, -1, -1):\n",
    "        path[frame] = state\n",
    "        state = bt_pointers[frame, state]\n",
    "\n",
    "    # return the tracked path and its probability\n",
    "    return path"
   ]
  },
  {
   "cell_type": "markdown",
   "metadata": {},
   "source": [
    "## Calculate Viterbi path"
   ]
  },
  {
   "cell_type": "code",
   "execution_count": 69,
   "metadata": {},
   "outputs": [
    {
     "name": "stdout",
     "output_type": "stream",
     "text": [
      "\n",
      "Elapsed time: 0 min and 0 s\n"
     ]
    }
   ],
   "source": [
    "start = time.time()\n",
    "path = viterbi_c(observations, transition_model, observation_model, init_distribution)\n",
    "end = time.time()\n",
    "print('\\nElapsed time: {:d} min and {:d} s'.format(np.int((end - start)/60), np.int((end - start) % 60)))"
   ]
  },
  {
   "cell_type": "code",
   "execution_count": 70,
   "metadata": {},
   "outputs": [
    {
     "data": {
      "text/plain": [
       "array([5425, 5426, 5320, 5321, 5322, 5323, 5324, 5325, 5326, 5327, 5328,\n",
       "       5329, 5330, 5331, 5332, 5333, 5334, 5335, 5336, 5337, 5338, 5339,\n",
       "       5340, 5341, 5342, 5343, 5344, 5345, 5346, 5347, 5348, 5349, 5350,\n",
       "       5351, 5352, 5353, 5354, 5355, 5356, 5357, 5358], dtype=uint32)"
      ]
     },
     "execution_count": 70,
     "metadata": {},
     "output_type": "execute_result"
    }
   ],
   "source": [
    "path"
   ]
  },
  {
   "cell_type": "code",
   "execution_count": 71,
   "metadata": {},
   "outputs": [],
   "source": [
    "fps = 100"
   ]
  },
  {
   "cell_type": "code",
   "execution_count": 72,
   "metadata": {},
   "outputs": [],
   "source": [
    "beats = np.empty(0, dtype=np.int)\n",
    "\n",
    "if correct:\n",
    "    # for each detection determine the \"beat range\", i.e. states where\n",
    "    # the pointers of the observation model are 1\n",
    "    beat_range = om_pointers[path]\n",
    "    # get all change points between True and False\n",
    "    idx = np.nonzero(np.diff(beat_range))[0] + 1\n",
    "    # if the first frame is in the beat range, add a change at frame 0\n",
    "    if beat_range[0]:\n",
    "        idx = np.r_[0, idx]\n",
    "    # if the last frame is in the beat range, append the length of the\n",
    "    # array\n",
    "    if beat_range[-1]:\n",
    "        idx = np.r_[idx, beat_range.size]\n",
    "    # iterate over all regions\n",
    "    if idx.any():\n",
    "        for left, right in idx.reshape((-1, 2)):\n",
    "            left = np.maximum(0,left - (right - left))\n",
    "            \n",
    "            # pick the frame with the highest activations value\n",
    "            peak = np.argmax(observations[left:right]) + left\n",
    "            beats = np.hstack((beats, peak))\n",
    "else:\n",
    "    # just take the frames with the smallest beat state values\n",
    "    from scipy.signal import argrelmin\n",
    "    beats = argrelmin(state_positions[path], mode='wrap')[0]\n",
    "    # recheck if they are within the \"beat range\", i.e. the pointers\n",
    "    # of the observation model for that state must be 1\n",
    "    # Note: interpolation and alignment of the beats to be at state 0\n",
    "    #       does not improve results over this simple method\n",
    "    beats = beats[pointers_om[path[beats]] == 1]\n",
    "# convert the detected beats to seconds and return them\n",
    "\n",
    "beats = (beats + first) # / float(fps)"
   ]
  },
  {
   "cell_type": "code",
   "execution_count": 73,
   "metadata": {},
   "outputs": [
    {
     "data": {
      "text/plain": [
       "array([2, 9])"
      ]
     },
     "execution_count": 73,
     "metadata": {},
     "output_type": "execute_result"
    }
   ],
   "source": [
    "idx"
   ]
  },
  {
   "cell_type": "code",
   "execution_count": 74,
   "metadata": {},
   "outputs": [
    {
     "data": {
      "text/plain": [
       "array([9])"
      ]
     },
     "execution_count": 74,
     "metadata": {},
     "output_type": "execute_result"
    }
   ],
   "source": [
    "beats"
   ]
  },
  {
   "cell_type": "code",
   "execution_count": null,
   "metadata": {},
   "outputs": [],
   "source": []
  },
  {
   "cell_type": "code",
   "execution_count": null,
   "metadata": {},
   "outputs": [],
   "source": []
  }
 ],
 "metadata": {
  "kernelspec": {
   "display_name": "Python 3",
   "language": "python",
   "name": "python3"
  },
  "language_info": {
   "codemirror_mode": {
    "name": "ipython",
    "version": 3
   },
   "file_extension": ".py",
   "mimetype": "text/x-python",
   "name": "python",
   "nbconvert_exporter": "python",
   "pygments_lexer": "ipython3",
   "version": "3.6.5"
  },
  "varInspector": {
   "cols": {
    "lenName": 16,
    "lenType": 16,
    "lenVar": 40
   },
   "kernels_config": {
    "python": {
     "delete_cmd_postfix": "",
     "delete_cmd_prefix": "del ",
     "library": "var_list.py",
     "varRefreshCmd": "print(var_dic_list())"
    },
    "r": {
     "delete_cmd_postfix": ") ",
     "delete_cmd_prefix": "rm(",
     "library": "var_list.r",
     "varRefreshCmd": "cat(var_dic_list()) "
    }
   },
   "types_to_exclude": [
    "module",
    "function",
    "builtin_function_or_method",
    "instance",
    "_Feature"
   ],
   "window_display": false
  }
 },
 "nbformat": 4,
 "nbformat_minor": 2
}
