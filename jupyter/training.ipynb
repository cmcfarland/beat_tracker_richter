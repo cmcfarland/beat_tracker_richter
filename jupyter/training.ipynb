{
 "cells": [
  {
   "cell_type": "code",
   "execution_count": 1,
   "metadata": {},
   "outputs": [],
   "source": [
    "import os\n",
    "import sys\n",
    "import time\n",
    "\n",
    "import numpy as np\n",
    "import pandas as pd\n",
    "import matplotlib.pyplot as plt\n",
    "\n",
    "import torch\n",
    "import torch.nn as nn\n",
    "import torch.nn.functional as F\n",
    "import torch.optim as optim\n",
    "from torch.nn.utils.rnn import pad_sequence\n",
    "from torch.utils.data import Dataset, DataLoader, Subset\n",
    "\n",
    "module_path = os.path.abspath(os.path.join('..'))\n",
    "if module_path not in sys.path:\n",
    "    sys.path.append(module_path)\n",
    "    \n",
    "from python.utils import *\n",
    "from python.optimizations import (weight_norm, VariationalDropout, \n",
    "    VariationalHidDropout, WeightDrop, embedded_dropout)"
   ]
  },
  {
   "cell_type": "markdown",
   "metadata": {},
   "source": [
    "## Global settings"
   ]
  },
  {
   "cell_type": "code",
   "execution_count": 2,
   "metadata": {},
   "outputs": [
    {
     "name": "stdout",
     "output_type": "stream",
     "text": [
      "Torch version: 1.0.0\n",
      "Device: cpu\n"
     ]
    }
   ],
   "source": [
    "batch_size = 1 \n",
    "device = torch.device(\"cuda\" if torch.cuda.is_available() else \"cpu\")\n",
    "\n",
    "print('Torch version: {}'.format(torch.__version__))\n",
    "print('Device: %s' % (device))"
   ]
  },
  {
   "cell_type": "markdown",
   "metadata": {},
   "source": [
    "## Load data"
   ]
  },
  {
   "cell_type": "code",
   "execution_count": 3,
   "metadata": {},
   "outputs": [],
   "source": [
    "data = pd.read_csv('../data/data.csv', index_col=0)"
   ]
  },
  {
   "cell_type": "markdown",
   "metadata": {},
   "source": [
    "## Create 'Dataset' and 'DataLoader' "
   ]
  },
  {
   "cell_type": "code",
   "execution_count": 4,
   "metadata": {},
   "outputs": [],
   "source": [
    "class Data(Dataset):\n",
    "    def __init__(self, data):\n",
    "        self.data = data\n",
    "        self.data.index = np.arange(len(self.data))\n",
    " \n",
    "    def __getitem__(self, i): \n",
    "        return get_input(self.data.at[i,'file']), get_labels(self.data.at[i,'file'])\n",
    "\n",
    "    def __len__(self):\n",
    "        return len(self.data)\n",
    "    \n",
    "     \n",
    "# merges a list of samples to form a mini-batch\n",
    "def collate_fn(batch):\n",
    "    features, labels = zip(*batch)\n",
    "    \n",
    "    features = pad_sequence(features, batch_first=True)\n",
    "    \n",
    "    labels = pad_sequence(labels, batch_first=True)\n",
    "    \n",
    "    return features, labels"
   ]
  },
  {
   "cell_type": "markdown",
   "metadata": {},
   "source": [
    "## Select data and split it into training and validation data"
   ]
  },
  {
   "cell_type": "code",
   "execution_count": 5,
   "metadata": {},
   "outputs": [],
   "source": [
    "# just ballroom \n",
    "ballroom = data[data['data_set'] == 1]\n",
    "\n",
    "np.random.seed(1111)\n",
    "\n",
    "train_valid_ratio = 0.9\n",
    "\n",
    "train_indices = np.sort(np.random.choice(ballroom['idx'], int(len(ballroom)*train_valid_ratio), replace=False))\n",
    "valid_indices = np.sort(np.array(list(set(np.arange(len(ballroom))) - set(train_indices))))\n",
    "\n",
    "train_set = Data(ballroom.iloc[train_indices])\n",
    "valid_set = Data(ballroom.iloc[valid_indices])\n",
    "\n",
    "train_loader = DataLoader(dataset=train_set, batch_size=batch_size, shuffle=True, \n",
    "                         drop_last=True, collate_fn=collate_fn)\n",
    "valid_loader = DataLoader(dataset=valid_set, batch_size=len(valid_set), collate_fn=collate_fn)"
   ]
  },
  {
   "cell_type": "markdown",
   "metadata": {},
   "source": [
    "## LSTM model"
   ]
  },
  {
   "cell_type": "code",
   "execution_count": 42,
   "metadata": {
    "code_folding": [
     0
    ]
   },
   "outputs": [],
   "source": [
    "# LSTM\n",
    "\n",
    "class ModelBoeck(nn.Module):\n",
    "    def __init__(self):\n",
    "        super(ModelBoeck, self).__init__()\n",
    "        \n",
    "        # Model parameters\n",
    "        self.input_size = 120\n",
    "        self.output_size = 2\n",
    "        self.num_layers = 3\n",
    "        self.hidden_size = 25     \n",
    "        self.bidirectional = True\n",
    "        self.num_directions = 2 if self.bidirectional else 1\n",
    "        \n",
    "        # Recurrent layer \n",
    "        self.lstm = nn.LSTM(input_size=self.input_size, \n",
    "                            hidden_size=self.hidden_size, \n",
    "                            num_layers=self.num_layers, \n",
    "                            bidirectional=self.bidirectional,\n",
    "                            batch_first=True)\n",
    "        \n",
    "        # Read out layer\n",
    "        self.fc = nn.Linear(self.num_directions * self.hidden_size, self.output_size)       \n",
    "        \n",
    "    def forward(self, x):         \n",
    "        lstm_out, _ = self.lstm(x)         \n",
    "        fc_out = self.fc(lstm_out)\n",
    "        y = F.log_softmax(fc_out, dim=2)\n",
    "        return torch.transpose(y, 1, 2)"
   ]
  },
  {
   "cell_type": "code",
   "execution_count": 43,
   "metadata": {},
   "outputs": [],
   "source": [
    "model = ModelBoeck().to(device)"
   ]
  },
  {
   "cell_type": "markdown",
   "metadata": {},
   "source": [
    "## TCN model"
   ]
  },
  {
   "cell_type": "code",
   "execution_count": 41,
   "metadata": {
    "code_folding": [
     0
    ]
   },
   "outputs": [],
   "source": [
    "# TCN\n",
    "\n",
    "class Chomp1d(nn.Module):\n",
    "    def __init__(self, chomp_size):\n",
    "        super(Chomp1d, self).__init__()\n",
    "        self.chomp_size = chomp_size\n",
    "\n",
    "    def forward(self, x):\n",
    "        return x[:, :, :-self.chomp_size].contiguous()\n",
    "\n",
    "\n",
    "class TemporalBlock(nn.Module):\n",
    "    def __init__(self, n_inputs, n_outputs, kernel_size, stride, dilation, padding, dropout=0.2):\n",
    "        super(TemporalBlock, self).__init__()\n",
    "        self.conv1 = nn.utils.weight_norm(nn.Conv1d(n_inputs, n_outputs, kernel_size,\n",
    "                                           stride=stride, padding=padding, dilation=dilation))\n",
    "        self.chomp1 = Chomp1d(padding)\n",
    "        self.relu1 = nn.ReLU()\n",
    "        self.dropout1 = nn.Dropout(dropout)\n",
    "\n",
    "        self.conv2 = nn.utils.weight_norm(nn.Conv1d(n_outputs, n_outputs, kernel_size,\n",
    "                                           stride=stride, padding=padding, dilation=dilation))\n",
    "        self.chomp2 = Chomp1d(padding)\n",
    "        self.relu2 = nn.ReLU()\n",
    "        self.dropout2 = nn.Dropout(dropout)\n",
    "\n",
    "        self.net = nn.Sequential(self.conv1, self.chomp1, self.relu1, self.dropout1,\n",
    "                                 self.conv2, self.chomp2, self.relu2, self.dropout2)\n",
    "        self.downsample = nn.Conv1d(n_inputs, n_outputs, 1) if n_inputs != n_outputs else None\n",
    "        self.relu = nn.ReLU()\n",
    "        self.init_weights()\n",
    "\n",
    "    def init_weights(self):\n",
    "        self.conv1.weight.data.normal_(0, 0.01)\n",
    "        self.conv2.weight.data.normal_(0, 0.01)\n",
    "        if self.downsample is not None:\n",
    "            self.downsample.weight.data.normal_(0, 0.01)\n",
    "\n",
    "    def forward(self, x):\n",
    "        out = self.net(x)\n",
    "        res = x if self.downsample is None else self.downsample(x)\n",
    "        return self.relu(out + res)\n",
    "\n",
    "\n",
    "class TemporalConvNet(nn.Module):\n",
    "    def __init__(self, num_inputs, num_channels, kernel_size=2, dropout=0.2):\n",
    "        super(TemporalConvNet, self).__init__()\n",
    "        layers = []\n",
    "        num_levels = len(num_channels)\n",
    "        for i in range(num_levels):\n",
    "            dilation_size = 2 ** i\n",
    "            in_channels = num_inputs if i == 0 else num_channels[i-1]\n",
    "            out_channels = num_channels[i]\n",
    "            layers += [TemporalBlock(in_channels, out_channels, kernel_size, stride=1, dilation=dilation_size,\n",
    "                                     padding=(kernel_size-1) * dilation_size, dropout=dropout)]\n",
    "\n",
    "        self.network = nn.Sequential(*layers)\n",
    "\n",
    "    def forward(self, x):\n",
    "        return self.network(x)\n",
    "    \n",
    "    \n",
    "class TCN(nn.Module):\n",
    "    def __init__(self, input_size, output_size, num_channels, kernel_size, dropout):\n",
    "        super(TCN, self).__init__()\n",
    "        self.tcn = TemporalConvNet(input_size, num_channels, kernel_size, dropout=dropout)\n",
    "        self.linear = nn.Linear(num_channels[-1], output_size)\n",
    "\n",
    "    def forward(self, x):\n",
    "        # x needs to have dimension (N, C, L) in order to be passed into CNN\n",
    "        output = self.tcn(x.transpose(1, 2)).transpose(1, 2)\n",
    "        output = self.linear(output).double()        \n",
    "        output = F.log_softmax(output, dim=2).transpose(1, 2)\n",
    "        return output\n",
    "    "
   ]
  },
  {
   "cell_type": "code",
   "execution_count": 42,
   "metadata": {},
   "outputs": [
    {
     "name": "stdout",
     "output_type": "stream",
     "text": [
      "Number of learnable Parameters: 624702\n"
     ]
    }
   ],
   "source": [
    "input_size = 120\n",
    "output_size = 2\n",
    "nhid = 100\n",
    "levels = 6\n",
    "n_channels = [nhid] * levels\n",
    "kernel_size = 5\n",
    "dropout = 0.25\n",
    "\n",
    "model = TCN(input_size, output_size, n_channels, kernel_size, dropout=dropout).to(device)\n",
    "\n",
    "print('Number of learnable Parameters: {}'.format(count_parameters(model)))"
   ]
  },
  {
   "cell_type": "markdown",
   "metadata": {},
   "source": [
    "## Trellis Net"
   ]
  },
  {
   "cell_type": "code",
   "execution_count": 35,
   "metadata": {
    "code_folding": [
     0,
     162
    ]
   },
   "outputs": [],
   "source": [
    "# Trellis Net\n",
    "\n",
    "class WeightShareConv1d(nn.Module):\n",
    "    def __init__(self, input_dim, hidden_dim, n_out, kernel_size, dropouth=0.0):\n",
    "        \"\"\"\n",
    "        The weight-tied 1D convolution used in TrellisNet.\n",
    "\n",
    "        :param input_dim: The dim of original input\n",
    "        :param hidden_dim: The dim of hidden input\n",
    "        :param n_out: The dim of the pre-activation (i.e. convolutional) output\n",
    "        :param kernel_size: The size of the convolutional kernel\n",
    "        :param dropouth: Hidden-to-hidden dropout\n",
    "        \"\"\"\n",
    "        super(WeightShareConv1d, self).__init__()\n",
    "        self.kernel_size = kernel_size\n",
    "        self.n_inp1 = input_dim\n",
    "\n",
    "        conv1 = nn.Conv1d(input_dim, n_out, kernel_size)\n",
    "        self.weight1 = conv1.weight\n",
    "\n",
    "        conv2 = nn.Conv1d(hidden_dim, n_out, kernel_size)\n",
    "        self.weight2 = conv2.weight\n",
    "        self.bias2 = conv2.bias\n",
    "        self.init_weights()\n",
    "\n",
    "        self.dict = dict()\n",
    "        self.drop = VariationalHidDropout(dropout=dropouth)\n",
    "\n",
    "    def init_weights(self):\n",
    "        bound = 0.01\n",
    "        self.weight1.data.normal_(0, bound)\n",
    "        self.weight2.data.normal_(0, bound)\n",
    "        self.bias2.data.normal_(0, bound)\n",
    "\n",
    "    def forward(self, input, dilation, hid=None):\n",
    "        k = self.kernel_size\n",
    "        padding = (k - 1) * dilation    # To maintain causality constraint\n",
    "        x = F.pad(input, (padding, 0))\n",
    "\n",
    "        # Input part\n",
    "        x_1 = x[:, :self.n_inp1]\n",
    "\n",
    "        # Hidden part\n",
    "        z_1 = x[:, self.n_inp1:]\n",
    "        z_1[:, :, :padding] = hid.repeat(1, 1, padding)  # Note: we only pad the hidden part :-)\n",
    "        device = x_1.device\n",
    "        \n",
    "        # A linear transformation of the input sequence (and pre-computed once)\n",
    "        if (dilation, device) not in self.dict or self.dict[(dilation, device)] is None:\n",
    "            self.dict[(dilation, device)] = F.conv1d(x_1, self.weight1, dilation=dilation)\n",
    "\n",
    "        # Input injection\n",
    "        return self.dict[(dilation, device)] + F.conv1d(self.drop(z_1), self.weight2, self.bias2, \n",
    "                                                        dilation=dilation)\n",
    "\n",
    "\n",
    "class TrellisNet(nn.Module):\n",
    "    def __init__(self, ninp, nhid, nout, nlevels=40, kernel_size=2, dropouth=0.0,\n",
    "                 wnorm=True, aux_frequency=20, dilation=[1]):\n",
    "        \"\"\"\n",
    "        Build a trellis network with LSTM-style gated activations\n",
    "\n",
    "        :param ninp: The input (e.g., embedding) dimension\n",
    "        :param nhid: The hidden unit dimension (excluding the output dimension). In other words, \n",
    "                     if you want to build a TrellisNet with hidden size 1000 and output size 400, \n",
    "                     you should set nhid = 1000-400 = 600.\n",
    "                     (The reason we want to separate this is from Theorem 1.)\n",
    "        :param nout: The output dimension\n",
    "        :param nlevels: Number of layers\n",
    "        :param kernel_size: Kernel size of the TrellisNet\n",
    "        :param dropouth: Hidden-to-hidden (VD-based) dropout rate\n",
    "        :param wnorm: A boolean indicating whether to use weight normalization\n",
    "        :param aux_frequency: Frequency of taking the auxiliary loss; (-1 means no auxiliary loss)\n",
    "        :param dilation: The dilation of the convolution operation in TrellisNet\n",
    "        \"\"\"\n",
    "        super(TrellisNet, self).__init__()\n",
    "        self.ninp = ninp\n",
    "        self.nhid = nhid\n",
    "        self.nout = nout\n",
    "        self.h_size = h_size = nhid + nout\n",
    "        self.dilation = dilation\n",
    "        self.nlevels = nlevels\n",
    "        self.fn = None\n",
    "        self.last_output = None\n",
    "        self.aux_frequency = aux_frequency\n",
    "\n",
    "        self.kernel_size = ker = kernel_size\n",
    "\n",
    "        if wnorm:\n",
    "            print(\"Weight normalization applied\")\n",
    "            self.full_conv, self.fn = weight_norm(\n",
    "                WeightShareConv1d(ninp, h_size, 4 * h_size, kernel_size=kernel_size, dropouth=dropouth),\n",
    "                names=['weight1', 'weight2'],\n",
    "                dim=0)           # The weights to be normalized\n",
    "        else:\n",
    "            self.full_conv = WeightShareConv1d(ninp, h_size, 4 * h_size, kernel_size=ker, dropouth=dropouth)\n",
    "\n",
    "    def transform_input(self, X):\n",
    "        # X has dimension (N, ninp, L)\n",
    "        batch_size = X.size(0)\n",
    "        seq_len = X.size(2)\n",
    "        h_size = self.h_size\n",
    "\n",
    "        self.ht = torch.zeros(batch_size, h_size, seq_len).to(device)\n",
    "        self.ct = torch.zeros(batch_size, h_size, seq_len).to(device)\n",
    "        return torch.cat([X] + [self.ht], dim=1)     # \"Injecting\" input sequence at layer 1\n",
    "\n",
    "    def step(self, Z, dilation=1, hc=None):\n",
    "        ninp = self.ninp\n",
    "        h_size = self.h_size\n",
    "        (hid, cell) = hc\n",
    "\n",
    "        # Apply convolution\n",
    "        out = self.full_conv(Z, dilation=dilation, hid=hid)\n",
    "\n",
    "        # Gated activations among channel groups\n",
    "        ct_1 = F.pad(self.ct, (dilation, 0))[:, :, :-dilation]  # Dimension (N, h_size, L)\n",
    "        ct_1[:, :, :dilation] = cell.repeat(1, 1, dilation)\n",
    "\n",
    "        it = torch.sigmoid(out[:, :h_size])\n",
    "        ot = torch.sigmoid(out[:, h_size: 2 * h_size])\n",
    "        gt = torch.tanh(out[:, 2 * h_size: 3 * h_size])\n",
    "        ft = torch.sigmoid(out[:, 3 * h_size: 4 * h_size])\n",
    "        ct = ft * ct_1 + it * gt\n",
    "        ht = ot * torch.tanh(ct)\n",
    "\n",
    "        # Put everything back to form Z (i.e., injecting input to hidden unit)\n",
    "        Z = torch.cat([Z[:, :ninp], ht], dim=1)\n",
    "        self.ct = ct\n",
    "        return Z\n",
    "\n",
    "    def forward(self, X, hc, aux=True):\n",
    "        ninp = self.ninp\n",
    "        nout = self.nout\n",
    "        Z = self.transform_input(X)\n",
    "        aux_outs = []\n",
    "        dilation_cycle = self.dilation\n",
    "\n",
    "        if self.fn is not None:\n",
    "            # Recompute weight normalization weights\n",
    "            self.fn.reset(self.full_conv)\n",
    "        for key in self.full_conv.dict:\n",
    "            # Clear the pre-computed computations\n",
    "            if key[1] == X.device:\n",
    "                self.full_conv.dict[key] = None\n",
    "        self.full_conv.drop.reset_mask(Z[:, ninp:])\n",
    "\n",
    "        # Feed-forward layers\n",
    "        for i in range(0, self.nlevels):\n",
    "            d = dilation_cycle[i % len(dilation_cycle)]\n",
    "            Z = self.step(Z, dilation=d, hc=hc)\n",
    "            if aux and i % self.aux_frequency == (self.aux_frequency-1):\n",
    "                aux_outs.append(Z[:, -nout:].unsqueeze(0))\n",
    "\n",
    "        out = Z[:, -nout:].transpose(1, 2)              # Dimension (N, L, nout)\n",
    "        hc = (Z[:, ninp:, -1:], self.ct[:, :, -1:])     # Dimension (N, h_size, L)\n",
    "        if aux:\n",
    "            aux_outs = torch.cat(aux_outs, dim=0).transpose(0, 1).transpose(2, 3)\n",
    "        else:\n",
    "            aux_outs = None\n",
    "        return out, hc, aux_outs\n",
    "    \n",
    "class MixSoftmax(nn.Module):\n",
    "    def __init__(self, n_components, n_classes, nlasthid, ninp, decoder, dropoutl):\n",
    "        \"\"\"\n",
    "        Apply mixture of softmax on the last layer of the network\n",
    "\n",
    "        :param n_components: The number of softmaxes to use\n",
    "        :param n_classes: The number of classes to predict\n",
    "        :param nlasthid: The dimension of the last hidden layer from the deep network\n",
    "        :param ninp: The embedding size\n",
    "        :param decoder: The decoder layer\n",
    "        :param dropoutl: The dropout to be applied on the pre-softmax output\n",
    "        \"\"\"\n",
    "        super(MixSoftmax, self).__init__()\n",
    "        self.n_components = n_components\n",
    "        self.n_classes = n_classes\n",
    "        self.prior = nn.Linear(nlasthid, n_components)  # C ---> m\n",
    "        self.latent = nn.Linear(nlasthid, n_components * ninp)  # C ---> m*C\n",
    "        self.decoder = decoder\n",
    "        self.var_drop = VariationalDropout()\n",
    "        self.ninp = ninp\n",
    "        self.nlasthid = nlasthid\n",
    "        self.dropoutl = dropoutl\n",
    "\n",
    "    def init_weights(self):\n",
    "        initrange = 0.1\n",
    "        self.prior.weight.data.uniform_(-initrange, initrange)\n",
    "        self.latent.weight.data.uniform_(-initrange, initrange)\n",
    "\n",
    "    def forward(self, context):\n",
    "        n_components = self.n_components\n",
    "        n_classes = self.n_classes\n",
    "        decoder = self.decoder\n",
    "        ninp = self.ninp\n",
    "        dim = len(context.size())\n",
    "\n",
    "        if dim == 4:\n",
    "            # context: (N, M, L, C)  (used for the auxiliary outputs)\n",
    "            batch_size = context.size(0)\n",
    "            aux_size = context.size(1)\n",
    "            seq_len = context.size(2)\n",
    "            priors = F.softmax(self.prior(context), dim=3).view(-1, n_components)  # (M*N*L, m)\n",
    "            latent = self.var_drop(self.latent(context), self.dropoutl, dim=4)\n",
    "            latent = F.softmax(decoder(F.tanh(latent.view(-1, n_components, ninp))), dim=2)\n",
    "            return (priors.unsqueeze(2).expand_as(latent) * latent).sum(1).view(batch_size, aux_size, seq_len,\n",
    "                                                                                n_classes)\n",
    "        else:\n",
    "            batch_size = context.size(0)\n",
    "            seq_len = context.size(1)\n",
    "            priors = F.softmax(self.prior(context), dim=2).view(-1, n_components)  # (N*L, m)\n",
    "            latent = self.var_drop(self.latent(context), self.dropoutl)\n",
    "            latent = F.softmax(decoder(F.tanh(latent.view(-1, n_components, ninp))), dim=2)  # (N*L, m, n_classes)\n",
    "            return (priors.unsqueeze(2).expand_as(latent) * latent).sum(1).view(batch_size, seq_len, n_classes)"
   ]
  },
  {
   "cell_type": "code",
   "execution_count": 55,
   "metadata": {
    "code_folding": [
     0
    ]
   },
   "outputs": [],
   "source": [
    "class TrellisNetModel(nn.Module):\n",
    "    def __init__(self, ninp, nhid, nout, nlevels, kernel_size=2, dilation=[1], dropout=0.0, dropouti=0.0, \n",
    "                 dropouth=0.0, dropoutl=0.0, emb_dropout=0.0, wdrop=0.0, temporalwdrop=True, \n",
    "                 repack=False, wnorm=True, aux=True, aux_frequency=20, n_experts=0):\n",
    "        \"\"\"\n",
    "        A deep sequence model based on TrellisNet\n",
    "\n",
    "        :param ninp: The input dimension\n",
    "        :param nhid: The hidden unit dimension (excluding the output dimension). In other words, \n",
    "                     if you want to build a TrellisNet with hidden size 1000 and output size 400, \n",
    "                     you should set nhid = 1000-400 = 600.\n",
    "                     (The reason we want to separate this is from Theorem 1.)\n",
    "        :param nout: The output dimension\n",
    "        :param nlevels: The number of TrellisNet layers\n",
    "        :param kernel_size: Kernel size of the TrellisNet\n",
    "        :param dilation: Dilation size of the TrellisNet\n",
    "        :param dropout: Output (variational) dropout\n",
    "        :param dropouti: Input (variational) dropout\n",
    "        :param dropouth: Hidden-to-hidden (VD-based) dropout\n",
    "        :param dropoutl: Mixture-of-Softmax dropout (only valid if MoS is used)\n",
    "        :param emb_dropout: Embedding dropout\n",
    "        :param wdrop: Weight dropout\n",
    "        :param temporalwdrop: Whether we drop only the temporal parts of the weight (only valid if wdrop > 0)\n",
    "        :param repack: Whether to use history repackaging for TrellisNet\n",
    "        :param wnorm: Whether to apply weight normalization\n",
    "        :param aux: Whether to use auxiliary loss (deep supervision)\n",
    "        :param aux_frequency: The frequency of the auxiliary loss (only valid if aux == True)\n",
    "        :param n_experts: The number of softmax \"experts\" (i.e., whether MoS is used)\n",
    "        \"\"\"        \n",
    "        super(TrellisNetModel, self).__init__()\n",
    "        self.emb_dropout = emb_dropout\n",
    "        self.dropout = dropout    # Rate for dropping eventual output\n",
    "        self.dropouti = dropouti  # Rate for dropping embedding output\n",
    "        self.dropoutl = dropoutl\n",
    "        self.var_drop = VariationalDropout()\n",
    "        \n",
    "        self.repack = repack\n",
    "        self.nout = nout          # Should be the number of classes\n",
    "        self.nhid = nhid\n",
    "        self.ninp = ninp\n",
    "        self.aux = aux\n",
    "        self.n_experts = n_experts\n",
    "        self.wnorm = wnorm\n",
    "\n",
    "        # Set up TrellisNet\n",
    "        tnet = TrellisNet\n",
    "        self.tnet = tnet(ninp, nhid, nout=nout, nlevels=nlevels, kernel_size=kernel_size,\n",
    "                         dropouth=dropouth, wnorm=wnorm, aux_frequency=aux_frequency, dilation=dilation)\n",
    "        \n",
    "        # Set up MoS, if needed\n",
    "        if n_experts > 0:\n",
    "            print(\"Applied Mixture of Softmax\")\n",
    "            self.mixsoft = MixSoftmax(n_experts, ntoken, nlasthid=nout, ninp=ninp, decoder=self.decoder,\n",
    "                                      dropoutl=dropoutl)\n",
    "            \n",
    "        # Apply weight drop connect. If weightnorm is used, we apply the dropout to its \"direction\", \n",
    "        # instead of \"scale\"\n",
    "        reg_term = '_v' if wnorm else ''\n",
    "        self.tnet = WeightDrop(self.tnet,[['full_conv', 'weight1' + reg_term],\n",
    "                                         ['full_conv', 'weight2' + reg_term]],\n",
    "                               dropout=wdrop, temporal=temporalwdrop)\n",
    "        self.linear = nn.Linear(nout, nout)\n",
    "        self.network = nn.ModuleList([self.tnet])\n",
    "        if n_experts > 0: self.network.append(self.mixsoft)\n",
    "\n",
    "            \n",
    "    def load_weights(self, params_dict):\n",
    "        self.load_state_dict(params_dict)\n",
    "\n",
    "        \n",
    "    def save_weights(self, name):\n",
    "        with open(name, 'wb') as f:\n",
    "            d = self.state_dict()\n",
    "            torch.save(d, f)\n",
    "            \n",
    "            \n",
    "    def forward(self, inputs, hidden):\n",
    "        # Dimension (N, C, L)\n",
    "        inputs = inputs.transpose(1, 2)\n",
    "        inputs = F.dropout(inputs, self.dropouti)\n",
    "        trellisnet = self.network[0]\n",
    "        raw_output, hidden, all_raw_outputs = trellisnet(inputs, hidden, aux=self.aux)\n",
    "        \n",
    "        if all_raw_outputs is not None:\n",
    "            all_raw_outputs = all_raw_outputs.transpose(2, 3)\n",
    "            \n",
    "        out = F.dropout(self.linear(raw_output), self.dropout)    # Dimension (N, n_classes)\n",
    "\n",
    "        return F.log_softmax(out, dim=2).transpose(1, 2), hidden   \n",
    "\n",
    "    \n",
    "    def init_hidden(self, bsz):\n",
    "        h_size = self.nhid + self.nout\n",
    "        weight = next(self.parameters()).data\n",
    "        return (weight.new(bsz, h_size, 1).zero_().to(device),\n",
    "                weight.new(bsz, h_size, 1).zero_().to(device))  "
   ]
  },
  {
   "cell_type": "code",
   "execution_count": 49,
   "metadata": {},
   "outputs": [
    {
     "name": "stdout",
     "output_type": "stream",
     "text": [
      "Weight normalization applied\n",
      "Number of learnable Parameters: 237662\n"
     ]
    }
   ],
   "source": [
    "ninp = 120\n",
    "nhid = 120\n",
    "nout = 2\n",
    "nlevels = 11 \n",
    "kernel_size  = 2\n",
    "dilation = [1, 1, 2, 4, 8, 16, 32, 64, 128, 256, 512]\n",
    "dropout = 0.1\n",
    "dropouti = 0.1\n",
    "dropouth = 0.29\n",
    "dropoutl = 0.0\n",
    "emb_dropout = 0.02\n",
    "wdrop = 0.26\n",
    "temporalwdrop = True\n",
    "repack = False\n",
    "wnorm = True\n",
    "aux = 0\n",
    "aux_frequency = 1e4\n",
    "n_experts = 0\n",
    "    \n",
    "# wdecay = 8e-7\n",
    "# anneal = 5\n",
    "# seq_len = 0\n",
    "# horizon = 140\n",
    "# log-interval = 100\n",
    "# when = [220, 350]\n",
    "# n_experts = 0 \n",
    "\n",
    "model = TrellisNetModel(ninp, nhid, nout, nlevels, kernel_size, dilation, dropout, \n",
    "                        dropouti, dropouth, dropoutl, emb_dropout, wdrop, temporalwdrop, \n",
    "                        repack, wnorm, aux, aux_frequency, n_experts)\n",
    "\n",
    "print('Number of learnable Parameters: {}'.format(count_parameters(model)))"
   ]
  },
  {
   "cell_type": "markdown",
   "metadata": {},
   "source": [
    "## Loss function and optimizer "
   ]
  },
  {
   "cell_type": "code",
   "execution_count": 53,
   "metadata": {},
   "outputs": [],
   "source": [
    "clip = 0.2\n",
    "\n",
    "loss_function = nn.NLLLoss(weight=torch.tensor([1., 70.], dtype=torch.float).to(device))\n",
    "\n",
    "optimizer = optim.Adam(model.parameters(), lr=1e-5, betas=(0.9, 0.999), eps=1e-08)\n",
    "\n",
    "train_loss_vec = []\n",
    "valid_loss_vec = []"
   ]
  },
  {
   "cell_type": "markdown",
   "metadata": {},
   "source": [
    "## Train the model "
   ]
  },
  {
   "cell_type": "code",
   "execution_count": 2,
   "metadata": {
    "scrolled": true
   },
   "outputs": [],
   "source": [
    "for epoch in range(0, 10000):  \n",
    "    for i, (feature, label) in enumerate(train_loader):\n",
    "        \n",
    "        # Clear out accumulates gradients \n",
    "        model.zero_grad()\n",
    "        \n",
    "        hidden = model.init_hidden(feature.size(0))\n",
    "\n",
    "        # Forward pass\n",
    "        out, _ = model(feature.to(device), hidden)\n",
    "\n",
    "        # Backward propagation\n",
    "        loss = loss_function(out, label.to(device))\n",
    "        train_loss_vec.append(loss.item())\n",
    "        loss.backward()    \n",
    "        if clip > 0:\n",
    "            torch.nn.utils.clip_grad_norm_(model.parameters(), clip)\n",
    "        optimizer.step()\n",
    "\n",
    "        # print('Epoch: {:2d}   Batch: {:2d} of {:d}   TrainLoss: {:.3e}'\n",
    "        #       .format(epoch+1, i+1, len(train_loader), loss.item()))\n",
    "        \n",
    "    with torch.no_grad():\n",
    "        input, label = next(iter(valid_loader))\n",
    "\n",
    "        out, _ = model(input.to(device))\n",
    "        loss = loss_function(out, label.to(device))\n",
    "        valid_loss_vec.append(loss.item())\n",
    "\n",
    "        print('Epoch: {:2d}   Validation Loss: {:.3e}'\n",
    "                  .format(epoch+1, loss.item()))\n",
    "    \n",
    "    torch.save(model.state_dict(), '../models/lstm_ballroom_epoch'+ \n",
    "               str(epoch+1)+'_vloss_{:.5}.pt'.format(loss.item()))\n",
    "    "
   ]
  },
  {
   "cell_type": "markdown",
   "metadata": {},
   "source": [
    "## Save model parameters"
   ]
  },
  {
   "cell_type": "code",
   "execution_count": 29,
   "metadata": {},
   "outputs": [
    {
     "ename": "NameError",
     "evalue": "name 'loss' is not defined",
     "output_type": "error",
     "traceback": [
      "\u001b[0;31m---------------------------------------------------------------------------\u001b[0m",
      "\u001b[0;31mNameError\u001b[0m                                 Traceback (most recent call last)",
      "\u001b[0;32m<ipython-input-29-698729ac181c>\u001b[0m in \u001b[0;36m<module>\u001b[0;34m()\u001b[0m\n\u001b[0;32m----> 1\u001b[0;31m \u001b[0mtorch\u001b[0m\u001b[0;34m.\u001b[0m\u001b[0msave\u001b[0m\u001b[0;34m(\u001b[0m\u001b[0mmodel\u001b[0m\u001b[0;34m.\u001b[0m\u001b[0mstate_dict\u001b[0m\u001b[0;34m(\u001b[0m\u001b[0;34m)\u001b[0m\u001b[0;34m,\u001b[0m \u001b[0;34m'../models/lstm_ballroom_epoch'\u001b[0m\u001b[0;34m+\u001b[0m \u001b[0mstr\u001b[0m\u001b[0;34m(\u001b[0m\u001b[0mepoch\u001b[0m\u001b[0;34m)\u001b[0m\u001b[0;34m+\u001b[0m\u001b[0;34m'_vloss_'\u001b[0m\u001b[0;34m+\u001b[0m \u001b[0mstr\u001b[0m\u001b[0;34m(\u001b[0m\u001b[0mloss\u001b[0m\u001b[0;34m.\u001b[0m\u001b[0mitem\u001b[0m\u001b[0;34m(\u001b[0m\u001b[0;34m)\u001b[0m\u001b[0;34m)\u001b[0m \u001b[0;34m+\u001b[0m\u001b[0;34m'.pt'\u001b[0m\u001b[0;34m)\u001b[0m\u001b[0;34m\u001b[0m\u001b[0m\n\u001b[0m",
      "\u001b[0;31mNameError\u001b[0m: name 'loss' is not defined"
     ]
    }
   ],
   "source": [
    "torch.save(model.state_dict(), '../models/lstm_ballroom_epoch'+ str(epoch)+'_vloss_'+ str(loss.item()) +'.pt')"
   ]
  },
  {
   "cell_type": "markdown",
   "metadata": {},
   "source": [
    "## Plot loss"
   ]
  },
  {
   "cell_type": "code",
   "execution_count": 12,
   "metadata": {
    "scrolled": false
   },
   "outputs": [
    {
     "data": {
      "image/png": "[encoded data removed]",
      "text/plain": [
       "<Figure size 432x288 with 1 Axes>"
      ]
     },
     "metadata": {},
     "output_type": "display_data"
    }
   ],
   "source": [
    "plt.plot(valid_loss_vec)\n",
    "plt.xlabel('Iteration steps')\n",
    "plt.ylabel('Loss');\n",
    "\n",
    "min_idx = np.argmin(valid_loss_vec)\n",
    "min_loss = np.min(valid_loss_vec)\n",
    "\n",
    "print('Minimum at {}: {}'.format(min_idx, min_loss))"
   ]
  },
  {
   "cell_type": "code",
   "execution_count": null,
   "metadata": {},
   "outputs": [],
   "source": [
    "np.save('valid_loss_8trellis_epochs', valid_loss_vec)"
   ]
  },
  {
   "cell_type": "code",
   "execution_count": null,
   "metadata": {},
   "outputs": [],
   "source": [
    "valid_loss_vec = np.load('valid_loss_8trellis_epochs.npy').tolist()"
   ]
  },
  {
   "cell_type": "markdown",
   "metadata": {},
   "source": [
    "\n",
    "\n",
    "\n",
    "\n",
    "\n",
    "\n",
    "\n",
    "\n",
    "\n",
    "\n",
    "\n",
    "\n",
    "\n",
    "\n",
    "\n",
    "\n",
    "\n",
    "\n",
    "\n",
    "\n"
   ]
  },
  {
   "cell_type": "markdown",
   "metadata": {},
   "source": [
    "## Load trained parameters"
   ]
  },
  {
   "cell_type": "code",
   "execution_count": 35,
   "metadata": {},
   "outputs": [],
   "source": [
    "# model.load_state_dict(torch.load('../models/mb_ballroom_bs-100_fold-0.pt', map_location=device))"
   ]
  }
 ],
 "metadata": {
  "kernelspec": {
   "display_name": "Python 3",
   "language": "python",
   "name": "python3"
  },
  "language_info": {
   "codemirror_mode": {
    "name": "ipython",
    "version": 3
   },
   "file_extension": ".py",
   "mimetype": "text/x-python",
   "name": "python",
   "nbconvert_exporter": "python",
   "pygments_lexer": "ipython3",
   "version": "3.6.5"
  },
  "varInspector": {
   "cols": {
    "lenName": 16,
    "lenType": 16,
    "lenVar": 40
   },
   "kernels_config": {
    "python": {
     "delete_cmd_postfix": "",
     "delete_cmd_prefix": "del ",
     "library": "var_list.py",
     "varRefreshCmd": "print(var_dic_list())"
    },
    "r": {
     "delete_cmd_postfix": ") ",
     "delete_cmd_prefix": "rm(",
     "library": "var_list.r",
     "varRefreshCmd": "cat(var_dic_list()) "
    }
   },
   "position": {
    "height": "403px",
    "left": "1064px",
    "right": "20px",
    "top": "114px",
    "width": "361px"
   },
   "types_to_exclude": [
    "module",
    "function",
    "builtin_function_or_method",
    "instance",
    "_Feature"
   ],
   "window_display": false
  }
 },
 "nbformat": 4,
 "nbformat_minor": 2
}
